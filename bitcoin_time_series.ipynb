{
 "cells": [
  {
   "cell_type": "code",
   "execution_count": 5,
   "metadata": {},
   "outputs": [],
   "source": [
    "import csv\n",
    "import pandas as pd\n",
    "import numpy as np\n",
    "import torch"
   ]
  },
  {
   "cell_type": "code",
   "execution_count": 6,
   "metadata": {},
   "outputs": [],
   "source": [
    "#Load in the data and create dictionaries of the bitcoin ticker values\n",
    "filename = 'Coin Prices.csv'\n",
    "coin_prices_df = pd.read_csv(filename)\n",
    "coin_dictionary = pd.Series(coin_prices_df.Ticker.values, index=coin_prices_df.index.values).to_dict()\n",
    "\n",
    "filename = 'Coin Sentiment.csv'\n",
    "sentiment_df = pd.read_csv(filename)\n",
    "sentiment_dictionary = pd.Series(sentiment_df.Ticker.values, index=sentiment_df.index.values).to_dict()"
   ]
  },
  {
   "cell_type": "code",
   "execution_count": 7,
   "metadata": {},
   "outputs": [],
   "source": [
    "#Process data into array of values and exclude specific coins\n",
    "\n",
    "#List of coin tickers to ignore because of incomplete data sets:\n",
    "coins_to_remove = ['BQX', 'IOTA', 'LLT', 'YOYO', 'VIBE']\n",
    "\n",
    "coin_dictionary = {k: v for k, v in coin_dictionary.items() if not v in coins_to_remove}\n",
    "\n",
    "price_data_list = []\n",
    "sentiment_data_list = []\n",
    "for coin in coin_dictionary.values():\n",
    "    coin_price_list = coin_prices_df[coin_prices_df['Ticker'] == coin].values[0,5:]\n",
    "    sentiment_list = sentiment_df[coin_prices_df['Ticker'] == coin].values[0,5:]\n",
    "    price_data_list.append(coin_price_list)\n",
    "    sentiment_data_list.append(sentiment_list)"
   ]
  },
  {
   "cell_type": "code",
   "execution_count": 10,
   "metadata": {},
   "outputs": [
    {
     "name": "stdout",
     "output_type": "stream",
     "text": [
      "(100, 1287)\n"
     ]
    }
   ],
   "source": [
    "#Only use the Coin Price Information At This Time\n",
    "#Length of time series\n",
    "L = len(price_data_list[0])\n",
    "#Number of coins\n",
    "N = len(coin_dictionary)\n",
    "\n",
    "x = np.empty((N, L), 'float64')\n",
    "x2 = np.empty((N, L), 'float64')\n",
    "print(x.shape)"
   ]
  },
  {
   "cell_type": "code",
   "execution_count": 11,
   "metadata": {},
   "outputs": [
    {
     "name": "stderr",
     "output_type": "stream",
     "text": [
      "C:\\Users\\bisedab\\AppData\\Local\\Continuum\\anaconda3\\lib\\site-packages\\ipykernel_launcher.py:8: RuntimeWarning: invalid value encountered in true_divide\n",
      "  \n"
     ]
    }
   ],
   "source": [
    "#Put all the data into the numpy array\n",
    "for i in range(len(price_data_list)):\n",
    "    x[i,:] = price_data_list[i]\n",
    "    x2[i,:] = sentiment_data_list[i]\n",
    "\n",
    "#Normalize the data for training\n",
    "normalized_x =  x/np.linalg.norm(x, ord=np.inf, axis=1, keepdims=True)\n",
    "normalized_x2 =  x2/np.linalg.norm(x2, ord=np.inf, axis=1, keepdims=True)\n",
    "\n",
    "train = normalized_x\n",
    "torch.save(train, open('coin_train.pt', 'wb'))"
   ]
  },
  {
   "cell_type": "code",
   "execution_count": 38,
   "metadata": {},
   "outputs": [],
   "source": [
    "normals = [normalized_x, normalized_x2]\n",
    "#test = torch.stack(normals, 1).squeeze(2)"
   ]
  },
  {
   "cell_type": "code",
   "execution_count": 45,
   "metadata": {},
   "outputs": [
    {
     "ename": "TypeError",
     "evalue": "expected Tensor as element 0 in argument 0, but got tuple",
     "output_type": "error",
     "traceback": [
      "\u001b[1;31m---------------------------------------------------------------------------\u001b[0m",
      "\u001b[1;31mTypeError\u001b[0m                                 Traceback (most recent call last)",
      "\u001b[1;32m<ipython-input-45-d87cd4384aac>\u001b[0m in \u001b[0;36m<module>\u001b[1;34m()\u001b[0m\n\u001b[1;32m----> 1\u001b[1;33m \u001b[0mtorch\u001b[0m\u001b[1;33m.\u001b[0m\u001b[0mstack\u001b[0m\u001b[1;33m(\u001b[0m\u001b[1;33m(\u001b[0m\u001b[0mnormalized_x\u001b[0m\u001b[1;33m,\u001b[0m \u001b[0mnormalized_x2\u001b[0m\u001b[1;33m)\u001b[0m\u001b[1;33m,\u001b[0m \u001b[1;36m1\u001b[0m\u001b[1;33m)\u001b[0m\u001b[1;33m\u001b[0m\u001b[0m\n\u001b[0m",
      "\u001b[1;31mTypeError\u001b[0m: expected Tensor as element 0 in argument 0, but got tuple"
     ]
    }
   ],
   "source": [
    "torch.stack((normalized_x, normalized_x2), 1)"
   ]
  },
  {
   "cell_type": "code",
   "execution_count": 46,
   "metadata": {},
   "outputs": [
    {
     "data": {
      "text/plain": [
       "numpy.ndarray"
      ]
     },
     "execution_count": 46,
     "metadata": {},
     "output_type": "execute_result"
    }
   ],
   "source": [
    "type(normalized_x)"
   ]
  },
  {
   "cell_type": "code",
   "execution_count": 35,
   "metadata": {
    "scrolled": false
   },
   "outputs": [
    {
     "data": {
      "text/plain": [
       "(100, 1287)"
      ]
     },
     "execution_count": 35,
     "metadata": {},
     "output_type": "execute_result"
    }
   ],
   "source": [
    "normalized_x.shape"
   ]
  },
  {
   "cell_type": "code",
   "execution_count": 36,
   "metadata": {},
   "outputs": [
    {
     "data": {
      "text/plain": [
       "(100, 1287)"
      ]
     },
     "execution_count": 36,
     "metadata": {},
     "output_type": "execute_result"
    }
   ],
   "source": [
    "normalized_x2.shape"
   ]
  },
  {
   "cell_type": "code",
   "execution_count": null,
   "metadata": {},
   "outputs": [],
   "source": [
    "            output = outputs[-self.input_nodes:]\n",
    "            output = torch.stack(output, 1).squeeze(2)"
   ]
  },
  {
   "cell_type": "code",
   "execution_count": 22,
   "metadata": {},
   "outputs": [],
   "source": [
    "from __future__ import print_function\n",
    "import torch\n",
    "import torch.nn as nn\n",
    "import torch.optim as optim\n",
    "import numpy as np\n",
    "import matplotlib\n",
    "matplotlib.use('Agg')\n",
    "import matplotlib.pyplot as plt\n",
    "import math\n",
    "import pickle\n",
    "import pandas as pd\n",
    "\n",
    "class Sequence(nn.Module):\n",
    "    \n",
    "    def __init__(self, input_nodes):\n",
    "        super(Sequence, self).__init__()\n",
    "        \n",
    "        self.input_nodes = input_nodes\n",
    "        self.output_nodes = 1\n",
    "        \n",
    "        self.number_of_nodes_1 = 21\n",
    "        self.number_of_nodes_2 = 11\n",
    "        self.number_of_nodes_3 = 5\n",
    "        \n",
    "        self.lstm1 = nn.LSTMCell(self.input_nodes, self.number_of_nodes_1)\n",
    "        self.lstm2 = nn.LSTMCell(self.number_of_nodes_1, self.number_of_nodes_2)\n",
    "        self.lstm3 = nn.LSTMCell(self.number_of_nodes_2, self.number_of_nodes_3)\n",
    "        self.linear = nn.Linear(self.number_of_nodes_3, self.output_nodes)\n",
    "\n",
    "    def forward(self, input, future = 0):\n",
    "        outputs = []\n",
    "        \n",
    "        h_t = torch.zeros(input.size(0), self.number_of_nodes_1, dtype=torch.double)\n",
    "        c_t = torch.zeros(input.size(0), self.number_of_nodes_1, dtype=torch.double)\n",
    "        h_t2 = torch.zeros(input.size(0), self.number_of_nodes_2, dtype=torch.double)\n",
    "        c_t2 = torch.zeros(input.size(0), self.number_of_nodes_2, dtype=torch.double)\n",
    "        h_t3 = torch.zeros(input.size(0), self.number_of_nodes_3, dtype=torch.double)\n",
    "        c_t3 = torch.zeros(input.size(0), self.number_of_nodes_3, dtype=torch.double)\n",
    "\n",
    "        #Break the data up into chunks where we can determine the number of input nodes\n",
    "        number_of_chunks = input.shape[1]-(self.input_nodes - 1)\n",
    "        \n",
    "        for i in range(number_of_chunks):\n",
    "            input_t = input[:,i:i+self.input_nodes]\n",
    "            h_t, c_t = self.lstm1(input_t, (h_t, c_t))\n",
    "            h_t2, c_t2 = self.lstm2(h_t, (h_t2, c_t2))\n",
    "            h_t3, c_t3 = self.lstm3(h_t2, (h_t3, c_t3))\n",
    "            output = self.linear(h_t3)\n",
    "            outputs += [output]\n",
    "            \n",
    "        for i in range(future):# if we should predict the future\n",
    "            #Output is a single point but we need to feed more into the model\n",
    "            output = outputs[-self.input_nodes:]\n",
    "            output = torch.stack(output, 1).squeeze(2)\n",
    "            \n",
    "            h_t, c_t = self.lstm1(output, (h_t, c_t))\n",
    "            h_t2, c_t2 = self.lstm2(h_t, (h_t2, c_t2))\n",
    "            h_t3, c_t3 = self.lstm3(h_t2, (h_t3, c_t3))\n",
    "            output = self.linear(h_t3)\n",
    "            outputs += [output]\n",
    "            \n",
    "        outputs = torch.stack(outputs, 1).squeeze(2)\n",
    "        return outputs"
   ]
  },
  {
   "cell_type": "code",
   "execution_count": 23,
   "metadata": {},
   "outputs": [],
   "source": [
    "data = torch.load('coin_train.pt')\n",
    "\n",
    "#Number of input points\n",
    "#Will feed in sentiment as same size as coins with both appended together\n",
    "input_nodes = 24 * 2\n",
    "\n",
    "input = torch.from_numpy(data[:, :-1])\n",
    "target = torch.from_numpy(data[:, input_nodes:])\n",
    "test_input = torch.from_numpy(data[:3, :-1])\n",
    "test_target = torch.from_numpy(data[:3, input_nodes:])"
   ]
  },
  {
   "cell_type": "code",
   "execution_count": 24,
   "metadata": {
    "scrolled": false
   },
   "outputs": [
    {
     "name": "stdout",
     "output_type": "stream",
     "text": [
      "(100, 1287)\n",
      "torch.Size([100, 1286]) torch.Size([100, 1239]) torch.Size([3, 1286]) torch.Size([3, 1239])\n"
     ]
    }
   ],
   "source": [
    "print(data.shape)\n",
    "print(input.shape, target.shape, test_input.shape, test_target.shape)"
   ]
  },
  {
   "cell_type": "code",
   "execution_count": 25,
   "metadata": {
    "scrolled": true
   },
   "outputs": [
    {
     "name": "stdout",
     "output_type": "stream",
     "text": [
      "STEP:  0\n",
      "loss: 0.5134032202262242\n",
      "loss: 0.41874424623525713\n",
      "loss: 0.03415375968057988\n",
      "loss: 0.03218305386815863\n",
      "loss: 0.031811032728776736\n",
      "loss: 0.0629403201622172\n",
      "loss: 0.023508392146685594\n",
      "loss: 0.02049282609598953\n",
      "loss: 0.09780819851453806\n",
      "loss: 0.011422603835765967\n",
      "loss: 0.010289238188656635\n",
      "loss: 0.008390608719809862\n",
      "loss: 0.007954838791886383\n",
      "loss: 0.007556755002649246\n",
      "loss: 0.0071220191947151965\n",
      "loss: 0.006860213552664418\n",
      "loss: 0.006324586311295638\n",
      "loss: 0.006115948415361262\n",
      "loss: 0.005757149121479754\n",
      "loss: 0.004877639371866283\n",
      "test loss: 0.006523914117034108\n"
     ]
    }
   ],
   "source": [
    "iterations = 1\n",
    "\n",
    "# build the model\n",
    "seq = Sequence(input_nodes)\n",
    "seq.double()\n",
    "criterion = nn.MSELoss()\n",
    "\n",
    "# use LBFGS as optimizer since we can load the whole data to train\n",
    "optimizer = optim.LBFGS(seq.parameters(), lr=0.8)\n",
    "\n",
    "#begin to train\n",
    "for i in range(iterations):\n",
    "    \n",
    "    print('STEP: ', i)\n",
    "    \n",
    "    def closure():\n",
    "        optimizer.zero_grad()\n",
    "        #Output predicts the single next value\n",
    "        out = seq(input)\n",
    "        loss = criterion(out, target)\n",
    "        print('loss:', loss.item())\n",
    "        loss.backward()\n",
    "        return loss\n",
    "    \n",
    "    optimizer.step(closure)\n",
    "    \n",
    "    # begin to predict, no need to track gradient here\n",
    "    with torch.no_grad():\n",
    "        future = 1000\n",
    "        pred = seq(test_input, future=future)\n",
    "        loss = criterion(pred[:, :-future], test_target)\n",
    "        print('test loss:', loss.item())\n",
    "        y = pred.detach().numpy()\n",
    "    \n",
    "    # draw the result\n",
    "    plt.figure(figsize=(30,10))\n",
    "    plt.title('Predict future values for time sequences\\n(Dashlines are predicted values)', fontsize=30)\n",
    "    plt.xlabel('x', fontsize=20)\n",
    "    plt.ylabel('y', fontsize=20)\n",
    "    plt.xticks(fontsize=20)\n",
    "    plt.yticks(fontsize=20)\n",
    "    def draw(yi, color):\n",
    "        plt.plot(np.arange(target.size(1)), yi[:target.size(1)], color, linewidth = 2.0)\n",
    "        plt.plot(np.arange(target.size(1), target.size(1) + future), yi[target.size(1):], color + ':', linewidth = 2.0)\n",
    "    draw(y[0], 'r')\n",
    "    draw(y[1], 'g')\n",
    "    draw(y[2], 'b')\n",
    "    plt.savefig('output/predict_iteration_%d.pdf'%i)\n",
    "    plt.close()"
   ]
  },
  {
   "cell_type": "code",
   "execution_count": 26,
   "metadata": {},
   "outputs": [],
   "source": [
    "with open('bitcoin.pickle', 'wb') as handle:\n",
    "    pickle.dump(seq, handle, protocol=pickle.HIGHEST_PROTOCOL)\n",
    "\n",
    "with open('bitcoin.pickle', 'rb') as handle:\n",
    "    b = pickle.load(handle)"
   ]
  },
  {
   "cell_type": "code",
   "execution_count": 27,
   "metadata": {},
   "outputs": [],
   "source": [
    "#Create Predictions for all coins\n",
    "with torch.no_grad():\n",
    "    future = 1000\n",
    "    pred = seq(input, future=future)\n",
    "    loss = criterion(pred[:, :-future], target)\n",
    "    y = pred.detach().numpy()"
   ]
  },
  {
   "cell_type": "code",
   "execution_count": 28,
   "metadata": {},
   "outputs": [],
   "source": [
    "#Transform the predictions back to the coin values\n",
    "pred_transformed = pred.numpy() * np.linalg.norm(x, ord=np.inf, axis=1, keepdims=True)"
   ]
  },
  {
   "cell_type": "code",
   "execution_count": 29,
   "metadata": {},
   "outputs": [],
   "source": [
    "#Find the values for specific time periods to create a nice tabular output\n",
    "last_actuals = pred_transformed[:,input.shape[1]]\n",
    "predicted_24_hrs = pred_transformed[:,input.shape[1] + 24]\n",
    "predicted_48_hrs = pred_transformed[:,input.shape[1] + 48]\n",
    "predicted_168_hrs = pred_transformed[:,input.shape[1] + 168]\n",
    "predicted_24_percent = predicted_24_hrs / last_actuals\n",
    "predicted_48_percent = predicted_48_hrs / last_actuals\n",
    "predicted_168_percent = predicted_168_hrs / last_actuals"
   ]
  },
  {
   "cell_type": "code",
   "execution_count": 30,
   "metadata": {},
   "outputs": [],
   "source": [
    "#Create a summary dataframe that shows the information\n",
    "result_df = pd.DataFrame()\n",
    "result_df['ticker'] = coin_dictionary.values()\n",
    "result_df['Current_Val'] = last_actuals\n",
    "result_df['24_hr_pred'] = predicted_24_hrs\n",
    "result_df['48_hr_pred'] = predicted_48_hrs\n",
    "result_df['168_hr_pred'] = predicted_168_hrs\n",
    "result_df['24_hr_percent'] = predicted_24_percent\n",
    "result_df['48_hr_percent'] = predicted_48_percent\n",
    "result_df['168_hr_percent'] = predicted_168_percent"
   ]
  },
  {
   "cell_type": "code",
   "execution_count": 31,
   "metadata": {},
   "outputs": [],
   "source": [
    "def draw_figures(preds, df, future=0, label=\"\"):\n",
    "    #Create a figure for each ticker\n",
    "    for i, ticker in df['ticker'].iteritems():\n",
    "        # draw the result\n",
    "        plt.figure(figsize=(30,10))\n",
    "        plt.title('Predict future values for time sequences\\n(Dashlines are predicted values)', fontsize=30)\n",
    "        plt.xticks(fontsize=20)\n",
    "        plt.yticks(fontsize=20)\n",
    "        ticker_plot = preds[i]\n",
    "        plt.plot(np.arange(len(ticker_plot)-future), ticker_plot[:len(ticker_plot)-future], 'r',\n",
    "                 linewidth = 2.0,label=ticker)\n",
    "        plt.plot(np.arange(len(ticker_plot)-1000, len(ticker_plot)), ticker_plot[len(ticker_plot)-future:],\n",
    "                 'r:', linewidth = 2.0)\n",
    "        plt.savefig('output/' + label + ticker + '.pdf')\n",
    "        plt.close()"
   ]
  },
  {
   "cell_type": "code",
   "execution_count": 32,
   "metadata": {},
   "outputs": [],
   "source": [
    "def draw_all_figures(preds, df, future=0, label=\"\"):\n",
    "    #Set up the initial plot\n",
    "    fig = plt.figure(figsize=(30,10))\n",
    "    plt.title('Predict future values for all coins\\n(Dashlines are predicted values)', fontsize=30)\n",
    "    plt.xticks(fontsize=20)\n",
    "    plt.yticks(fontsize=20)\n",
    "    ax = fig.add_subplot(111)\n",
    "    cycler = ax._get_lines.prop_cycler\n",
    "    \n",
    "    for i, ticker in df['ticker'].iteritems():\n",
    "        # draw a line for each prediction\n",
    "        ticker_plot = preds[i]\n",
    "        current_color = next(cycler)\n",
    "        plt.plot(np.arange(len(ticker_plot)-future), ticker_plot[:len(ticker_plot)-future], current_color['color'], \n",
    "                 linewidth = 2.0, label=ticker)\n",
    "        plt.plot(np.arange(len(ticker_plot)-1000, len(ticker_plot)), ticker_plot[len(ticker_plot)-future:], \n",
    "                 current_color['color'], linestyle = '--', linewidth = 2.0)\n",
    "    \n",
    "    plt.legend(loc='upper right')\n",
    "    plt.savefig('output/All_' + label + '.pdf')\n",
    "    plt.close()"
   ]
  },
  {
   "cell_type": "code",
   "execution_count": 33,
   "metadata": {
    "scrolled": true
   },
   "outputs": [
    {
     "name": "stderr",
     "output_type": "stream",
     "text": [
      "C:\\Users\\bisedab\\AppData\\Local\\Continuum\\anaconda3\\lib\\site-packages\\matplotlib\\cbook\\deprecation.py:106: MatplotlibDeprecationWarning: Adding an axes using the same arguments as a previous axes currently reuses the earlier instance.  In a future version, a new instance will always be created and returned.  Meanwhile, this warning can be suppressed, and the future behavior ensured, by passing a unique label to each axes instance.\n",
      "  warnings.warn(message, mplDeprecation, stacklevel=1)\n"
     ]
    },
    {
     "data": {
      "text/html": [
       "<style  type=\"text/css\" >\n",
       "</style>  \n",
       "<table id=\"T_a2220400_e9a8_11e8_a761_80000b9bf5eb\" > \n",
       "<thead>    <tr> \n",
       "        <th class=\"blank level0\" ></th> \n",
       "        <th class=\"col_heading level0 col0\" >ticker</th> \n",
       "        <th class=\"col_heading level0 col1\" >Current_Val</th> \n",
       "        <th class=\"col_heading level0 col2\" >24_hr_pred</th> \n",
       "        <th class=\"col_heading level0 col3\" >48_hr_pred</th> \n",
       "        <th class=\"col_heading level0 col4\" >168_hr_pred</th> \n",
       "        <th class=\"col_heading level0 col5\" >24_hr_percent</th> \n",
       "        <th class=\"col_heading level0 col6\" >48_hr_percent</th> \n",
       "        <th class=\"col_heading level0 col7\" >168_hr_percent</th> \n",
       "    </tr></thead> \n",
       "<tbody>    <tr> \n",
       "        <th id=\"T_a2220400_e9a8_11e8_a761_80000b9bf5eblevel0_row0\" class=\"row_heading level0 row0\" >28</th> \n",
       "        <td id=\"T_a2220400_e9a8_11e8_a761_80000b9bf5ebrow0_col0\" class=\"data row0 col0\" >MANA</td> \n",
       "        <td id=\"T_a2220400_e9a8_11e8_a761_80000b9bf5ebrow0_col1\" class=\"data row0 col1\" >0.103537</td> \n",
       "        <td id=\"T_a2220400_e9a8_11e8_a761_80000b9bf5ebrow0_col2\" class=\"data row0 col2\" >0.117266</td> \n",
       "        <td id=\"T_a2220400_e9a8_11e8_a761_80000b9bf5ebrow0_col3\" class=\"data row0 col3\" >0.131852</td> \n",
       "        <td id=\"T_a2220400_e9a8_11e8_a761_80000b9bf5ebrow0_col4\" class=\"data row0 col4\" >0.146014</td> \n",
       "        <td id=\"T_a2220400_e9a8_11e8_a761_80000b9bf5ebrow0_col5\" class=\"data row0 col5\" >113.26%</td> \n",
       "        <td id=\"T_a2220400_e9a8_11e8_a761_80000b9bf5ebrow0_col6\" class=\"data row0 col6\" >127.35%</td> \n",
       "        <td id=\"T_a2220400_e9a8_11e8_a761_80000b9bf5ebrow0_col7\" class=\"data row0 col7\" >141.03%</td> \n",
       "    </tr>    <tr> \n",
       "        <th id=\"T_a2220400_e9a8_11e8_a761_80000b9bf5eblevel0_row1\" class=\"row_heading level0 row1\" >58</th> \n",
       "        <td id=\"T_a2220400_e9a8_11e8_a761_80000b9bf5ebrow1_col0\" class=\"data row1 col0\" >XMR</td> \n",
       "        <td id=\"T_a2220400_e9a8_11e8_a761_80000b9bf5ebrow1_col1\" class=\"data row1 col1\" >276.654</td> \n",
       "        <td id=\"T_a2220400_e9a8_11e8_a761_80000b9bf5ebrow1_col2\" class=\"data row1 col2\" >312.933</td> \n",
       "        <td id=\"T_a2220400_e9a8_11e8_a761_80000b9bf5ebrow1_col3\" class=\"data row1 col3\" >346.107</td> \n",
       "        <td id=\"T_a2220400_e9a8_11e8_a761_80000b9bf5ebrow1_col4\" class=\"data row1 col4\" >366.577</td> \n",
       "        <td id=\"T_a2220400_e9a8_11e8_a761_80000b9bf5ebrow1_col5\" class=\"data row1 col5\" >113.11%</td> \n",
       "        <td id=\"T_a2220400_e9a8_11e8_a761_80000b9bf5ebrow1_col6\" class=\"data row1 col6\" >125.10%</td> \n",
       "        <td id=\"T_a2220400_e9a8_11e8_a761_80000b9bf5ebrow1_col7\" class=\"data row1 col7\" >132.50%</td> \n",
       "    </tr>    <tr> \n",
       "        <th id=\"T_a2220400_e9a8_11e8_a761_80000b9bf5eblevel0_row2\" class=\"row_heading level0 row2\" >95</th> \n",
       "        <td id=\"T_a2220400_e9a8_11e8_a761_80000b9bf5ebrow2_col0\" class=\"data row2 col0\" >WAVES</td> \n",
       "        <td id=\"T_a2220400_e9a8_11e8_a761_80000b9bf5ebrow2_col1\" class=\"data row2 col1\" >6.29844</td> \n",
       "        <td id=\"T_a2220400_e9a8_11e8_a761_80000b9bf5ebrow2_col2\" class=\"data row2 col2\" >7.11175</td> \n",
       "        <td id=\"T_a2220400_e9a8_11e8_a761_80000b9bf5ebrow2_col3\" class=\"data row2 col3\" >8.02451</td> \n",
       "        <td id=\"T_a2220400_e9a8_11e8_a761_80000b9bf5ebrow2_col4\" class=\"data row2 col4\" >9.06843</td> \n",
       "        <td id=\"T_a2220400_e9a8_11e8_a761_80000b9bf5ebrow2_col5\" class=\"data row2 col5\" >112.91%</td> \n",
       "        <td id=\"T_a2220400_e9a8_11e8_a761_80000b9bf5ebrow2_col6\" class=\"data row2 col6\" >127.40%</td> \n",
       "        <td id=\"T_a2220400_e9a8_11e8_a761_80000b9bf5ebrow2_col7\" class=\"data row2 col7\" >143.98%</td> \n",
       "    </tr>    <tr> \n",
       "        <th id=\"T_a2220400_e9a8_11e8_a761_80000b9bf5eblevel0_row3\" class=\"row_heading level0 row3\" >65</th> \n",
       "        <td id=\"T_a2220400_e9a8_11e8_a761_80000b9bf5ebrow3_col0\" class=\"data row3 col0\" >OMG</td> \n",
       "        <td id=\"T_a2220400_e9a8_11e8_a761_80000b9bf5ebrow3_col1\" class=\"data row3 col1\" >15.2044</td> \n",
       "        <td id=\"T_a2220400_e9a8_11e8_a761_80000b9bf5ebrow3_col2\" class=\"data row3 col2\" >17.1595</td> \n",
       "        <td id=\"T_a2220400_e9a8_11e8_a761_80000b9bf5ebrow3_col3\" class=\"data row3 col3\" >18.7263</td> \n",
       "        <td id=\"T_a2220400_e9a8_11e8_a761_80000b9bf5ebrow3_col4\" class=\"data row3 col4\" >19.423</td> \n",
       "        <td id=\"T_a2220400_e9a8_11e8_a761_80000b9bf5ebrow3_col5\" class=\"data row3 col5\" >112.86%</td> \n",
       "        <td id=\"T_a2220400_e9a8_11e8_a761_80000b9bf5ebrow3_col6\" class=\"data row3 col6\" >123.16%</td> \n",
       "        <td id=\"T_a2220400_e9a8_11e8_a761_80000b9bf5ebrow3_col7\" class=\"data row3 col7\" >127.75%</td> \n",
       "    </tr>    <tr> \n",
       "        <th id=\"T_a2220400_e9a8_11e8_a761_80000b9bf5eblevel0_row4\" class=\"row_heading level0 row4\" >29</th> \n",
       "        <td id=\"T_a2220400_e9a8_11e8_a761_80000b9bf5ebrow4_col0\" class=\"data row4 col0\" >DGD</td> \n",
       "        <td id=\"T_a2220400_e9a8_11e8_a761_80000b9bf5ebrow4_col1\" class=\"data row4 col1\" >415.499</td> \n",
       "        <td id=\"T_a2220400_e9a8_11e8_a761_80000b9bf5ebrow4_col2\" class=\"data row4 col2\" >468.661</td> \n",
       "        <td id=\"T_a2220400_e9a8_11e8_a761_80000b9bf5ebrow4_col3\" class=\"data row4 col3\" >518.424</td> \n",
       "        <td id=\"T_a2220400_e9a8_11e8_a761_80000b9bf5ebrow4_col4\" class=\"data row4 col4\" >549.323</td> \n",
       "        <td id=\"T_a2220400_e9a8_11e8_a761_80000b9bf5ebrow4_col5\" class=\"data row4 col5\" >112.79%</td> \n",
       "        <td id=\"T_a2220400_e9a8_11e8_a761_80000b9bf5ebrow4_col6\" class=\"data row4 col6\" >124.77%</td> \n",
       "        <td id=\"T_a2220400_e9a8_11e8_a761_80000b9bf5ebrow4_col7\" class=\"data row4 col7\" >132.21%</td> \n",
       "    </tr>    <tr> \n",
       "        <th id=\"T_a2220400_e9a8_11e8_a761_80000b9bf5eblevel0_row5\" class=\"row_heading level0 row5\" >54</th> \n",
       "        <td id=\"T_a2220400_e9a8_11e8_a761_80000b9bf5ebrow5_col0\" class=\"data row5 col0\" >MTL</td> \n",
       "        <td id=\"T_a2220400_e9a8_11e8_a761_80000b9bf5ebrow5_col1\" class=\"data row5 col1\" >4.47349</td> \n",
       "        <td id=\"T_a2220400_e9a8_11e8_a761_80000b9bf5ebrow5_col2\" class=\"data row5 col2\" >5.03569</td> \n",
       "        <td id=\"T_a2220400_e9a8_11e8_a761_80000b9bf5ebrow5_col3\" class=\"data row5 col3\" >5.69797</td> \n",
       "        <td id=\"T_a2220400_e9a8_11e8_a761_80000b9bf5ebrow5_col4\" class=\"data row5 col4\" >6.63273</td> \n",
       "        <td id=\"T_a2220400_e9a8_11e8_a761_80000b9bf5ebrow5_col5\" class=\"data row5 col5\" >112.57%</td> \n",
       "        <td id=\"T_a2220400_e9a8_11e8_a761_80000b9bf5ebrow5_col6\" class=\"data row5 col6\" >127.37%</td> \n",
       "        <td id=\"T_a2220400_e9a8_11e8_a761_80000b9bf5ebrow5_col7\" class=\"data row5 col7\" >148.27%</td> \n",
       "    </tr>    <tr> \n",
       "        <th id=\"T_a2220400_e9a8_11e8_a761_80000b9bf5eblevel0_row6\" class=\"row_heading level0 row6\" >41</th> \n",
       "        <td id=\"T_a2220400_e9a8_11e8_a761_80000b9bf5ebrow6_col0\" class=\"data row6 col0\" >GVT</td> \n",
       "        <td id=\"T_a2220400_e9a8_11e8_a761_80000b9bf5ebrow6_col1\" class=\"data row6 col1\" >30.2282</td> \n",
       "        <td id=\"T_a2220400_e9a8_11e8_a761_80000b9bf5ebrow6_col2\" class=\"data row6 col2\" >33.7506</td> \n",
       "        <td id=\"T_a2220400_e9a8_11e8_a761_80000b9bf5ebrow6_col3\" class=\"data row6 col3\" >36.1931</td> \n",
       "        <td id=\"T_a2220400_e9a8_11e8_a761_80000b9bf5ebrow6_col4\" class=\"data row6 col4\" >36.8766</td> \n",
       "        <td id=\"T_a2220400_e9a8_11e8_a761_80000b9bf5ebrow6_col5\" class=\"data row6 col5\" >111.65%</td> \n",
       "        <td id=\"T_a2220400_e9a8_11e8_a761_80000b9bf5ebrow6_col6\" class=\"data row6 col6\" >119.73%</td> \n",
       "        <td id=\"T_a2220400_e9a8_11e8_a761_80000b9bf5ebrow6_col7\" class=\"data row6 col7\" >121.99%</td> \n",
       "    </tr>    <tr> \n",
       "        <th id=\"T_a2220400_e9a8_11e8_a761_80000b9bf5eblevel0_row7\" class=\"row_heading level0 row7\" >35</th> \n",
       "        <td id=\"T_a2220400_e9a8_11e8_a761_80000b9bf5ebrow7_col0\" class=\"data row7 col0\" >ETH</td> \n",
       "        <td id=\"T_a2220400_e9a8_11e8_a761_80000b9bf5ebrow7_col1\" class=\"data row7 col1\" >738.149</td> \n",
       "        <td id=\"T_a2220400_e9a8_11e8_a761_80000b9bf5ebrow7_col2\" class=\"data row7 col2\" >819.124</td> \n",
       "        <td id=\"T_a2220400_e9a8_11e8_a761_80000b9bf5ebrow7_col3\" class=\"data row7 col3\" >924.618</td> \n",
       "        <td id=\"T_a2220400_e9a8_11e8_a761_80000b9bf5ebrow7_col4\" class=\"data row7 col4\" >1172.41</td> \n",
       "        <td id=\"T_a2220400_e9a8_11e8_a761_80000b9bf5ebrow7_col5\" class=\"data row7 col5\" >110.97%</td> \n",
       "        <td id=\"T_a2220400_e9a8_11e8_a761_80000b9bf5ebrow7_col6\" class=\"data row7 col6\" >125.26%</td> \n",
       "        <td id=\"T_a2220400_e9a8_11e8_a761_80000b9bf5ebrow7_col7\" class=\"data row7 col7\" >158.83%</td> \n",
       "    </tr>    <tr> \n",
       "        <th id=\"T_a2220400_e9a8_11e8_a761_80000b9bf5eblevel0_row8\" class=\"row_heading level0 row8\" >12</th> \n",
       "        <td id=\"T_a2220400_e9a8_11e8_a761_80000b9bf5ebrow8_col0\" class=\"data row8 col0\" >BNB</td> \n",
       "        <td id=\"T_a2220400_e9a8_11e8_a761_80000b9bf5ebrow8_col1\" class=\"data row8 col1\" >12.9524</td> \n",
       "        <td id=\"T_a2220400_e9a8_11e8_a761_80000b9bf5ebrow8_col2\" class=\"data row8 col2\" >14.3479</td> \n",
       "        <td id=\"T_a2220400_e9a8_11e8_a761_80000b9bf5ebrow8_col3\" class=\"data row8 col3\" >15.1233</td> \n",
       "        <td id=\"T_a2220400_e9a8_11e8_a761_80000b9bf5ebrow8_col4\" class=\"data row8 col4\" >15.2014</td> \n",
       "        <td id=\"T_a2220400_e9a8_11e8_a761_80000b9bf5ebrow8_col5\" class=\"data row8 col5\" >110.77%</td> \n",
       "        <td id=\"T_a2220400_e9a8_11e8_a761_80000b9bf5ebrow8_col6\" class=\"data row8 col6\" >116.76%</td> \n",
       "        <td id=\"T_a2220400_e9a8_11e8_a761_80000b9bf5ebrow8_col7\" class=\"data row8 col7\" >117.36%</td> \n",
       "    </tr>    <tr> \n",
       "        <th id=\"T_a2220400_e9a8_11e8_a761_80000b9bf5eblevel0_row9\" class=\"row_heading level0 row9\" >57</th> \n",
       "        <td id=\"T_a2220400_e9a8_11e8_a761_80000b9bf5ebrow9_col0\" class=\"data row9 col0\" >MCO</td> \n",
       "        <td id=\"T_a2220400_e9a8_11e8_a761_80000b9bf5ebrow9_col1\" class=\"data row9 col1\" >7.94158</td> \n",
       "        <td id=\"T_a2220400_e9a8_11e8_a761_80000b9bf5ebrow9_col2\" class=\"data row9 col2\" >8.70767</td> \n",
       "        <td id=\"T_a2220400_e9a8_11e8_a761_80000b9bf5ebrow9_col3\" class=\"data row9 col3\" >9.76608</td> \n",
       "        <td id=\"T_a2220400_e9a8_11e8_a761_80000b9bf5ebrow9_col4\" class=\"data row9 col4\" >13.0169</td> \n",
       "        <td id=\"T_a2220400_e9a8_11e8_a761_80000b9bf5ebrow9_col5\" class=\"data row9 col5\" >109.65%</td> \n",
       "        <td id=\"T_a2220400_e9a8_11e8_a761_80000b9bf5ebrow9_col6\" class=\"data row9 col6\" >122.97%</td> \n",
       "        <td id=\"T_a2220400_e9a8_11e8_a761_80000b9bf5ebrow9_col7\" class=\"data row9 col7\" >163.91%</td> \n",
       "    </tr></tbody> \n",
       "</table> "
      ],
      "text/plain": [
       "<pandas.io.formats.style.Styler at 0xb210be0>"
      ]
     },
     "execution_count": 33,
     "metadata": {},
     "output_type": "execute_result"
    }
   ],
   "source": [
    "#Predicted Top Performers\n",
    "top_df = result_df.sort_values('24_hr_percent', ascending=False)[0:10]\n",
    "#Create a graph of the top 10 performers\n",
    "draw_figures(pred_transformed, top_df, 1000, \"top_performers_\")\n",
    "draw_all_figures(pred_transformed, top_df, 1000, \"top_performers\")\n",
    "\n",
    "top_df.style.format({\n",
    "    '24_hr_percent': '{:.2%}'.format,\n",
    "    '48_hr_percent': '{:.2%}'.format,\n",
    "    '168_hr_percent': '{:.2%}'.format\n",
    "})"
   ]
  },
  {
   "cell_type": "code",
   "execution_count": 34,
   "metadata": {
    "scrolled": true
   },
   "outputs": [
    {
     "name": "stderr",
     "output_type": "stream",
     "text": [
      "C:\\Users\\bisedab\\AppData\\Local\\Continuum\\anaconda3\\lib\\site-packages\\matplotlib\\cbook\\deprecation.py:106: MatplotlibDeprecationWarning: Adding an axes using the same arguments as a previous axes currently reuses the earlier instance.  In a future version, a new instance will always be created and returned.  Meanwhile, this warning can be suppressed, and the future behavior ensured, by passing a unique label to each axes instance.\n",
      "  warnings.warn(message, mplDeprecation, stacklevel=1)\n"
     ]
    },
    {
     "data": {
      "text/html": [
       "<style  type=\"text/css\" >\n",
       "</style>  \n",
       "<table id=\"T_a2fc5de2_e9a8_11e8_9a51_80000b9bf5eb\" > \n",
       "<thead>    <tr> \n",
       "        <th class=\"blank level0\" ></th> \n",
       "        <th class=\"col_heading level0 col0\" >ticker</th> \n",
       "        <th class=\"col_heading level0 col1\" >Current_Val</th> \n",
       "        <th class=\"col_heading level0 col2\" >24_hr_pred</th> \n",
       "        <th class=\"col_heading level0 col3\" >48_hr_pred</th> \n",
       "        <th class=\"col_heading level0 col4\" >168_hr_pred</th> \n",
       "        <th class=\"col_heading level0 col5\" >24_hr_percent</th> \n",
       "        <th class=\"col_heading level0 col6\" >48_hr_percent</th> \n",
       "        <th class=\"col_heading level0 col7\" >168_hr_percent</th> \n",
       "    </tr></thead> \n",
       "<tbody>    <tr> \n",
       "        <th id=\"T_a2fc5de2_e9a8_11e8_9a51_80000b9bf5eblevel0_row0\" class=\"row_heading level0 row0\" >42</th> \n",
       "        <td id=\"T_a2fc5de2_e9a8_11e8_9a51_80000b9bf5ebrow0_col0\" class=\"data row0 col0\" >GTO</td> \n",
       "        <td id=\"T_a2fc5de2_e9a8_11e8_9a51_80000b9bf5ebrow0_col1\" class=\"data row0 col1\" >0.161277</td> \n",
       "        <td id=\"T_a2fc5de2_e9a8_11e8_9a51_80000b9bf5ebrow0_col2\" class=\"data row0 col2\" >0.136538</td> \n",
       "        <td id=\"T_a2fc5de2_e9a8_11e8_9a51_80000b9bf5ebrow0_col3\" class=\"data row0 col3\" >0.118557</td> \n",
       "        <td id=\"T_a2fc5de2_e9a8_11e8_9a51_80000b9bf5ebrow0_col4\" class=\"data row0 col4\" >0.0917764</td> \n",
       "        <td id=\"T_a2fc5de2_e9a8_11e8_9a51_80000b9bf5ebrow0_col5\" class=\"data row0 col5\" >84.66%</td> \n",
       "        <td id=\"T_a2fc5de2_e9a8_11e8_9a51_80000b9bf5ebrow0_col6\" class=\"data row0 col6\" >73.51%</td> \n",
       "        <td id=\"T_a2fc5de2_e9a8_11e8_9a51_80000b9bf5ebrow0_col7\" class=\"data row0 col7\" >56.91%</td> \n",
       "    </tr>    <tr> \n",
       "        <th id=\"T_a2fc5de2_e9a8_11e8_9a51_80000b9bf5eblevel0_row1\" class=\"row_heading level0 row1\" >34</th> \n",
       "        <td id=\"T_a2fc5de2_e9a8_11e8_9a51_80000b9bf5ebrow1_col0\" class=\"data row1 col0\" >EOS</td> \n",
       "        <td id=\"T_a2fc5de2_e9a8_11e8_9a51_80000b9bf5ebrow1_col1\" class=\"data row1 col1\" >3.76822</td> \n",
       "        <td id=\"T_a2fc5de2_e9a8_11e8_9a51_80000b9bf5ebrow1_col2\" class=\"data row1 col2\" >3.19746</td> \n",
       "        <td id=\"T_a2fc5de2_e9a8_11e8_9a51_80000b9bf5ebrow1_col3\" class=\"data row1 col3\" >2.73912</td> \n",
       "        <td id=\"T_a2fc5de2_e9a8_11e8_9a51_80000b9bf5ebrow1_col4\" class=\"data row1 col4\" >1.99994</td> \n",
       "        <td id=\"T_a2fc5de2_e9a8_11e8_9a51_80000b9bf5ebrow1_col5\" class=\"data row1 col5\" >84.85%</td> \n",
       "        <td id=\"T_a2fc5de2_e9a8_11e8_9a51_80000b9bf5ebrow1_col6\" class=\"data row1 col6\" >72.69%</td> \n",
       "        <td id=\"T_a2fc5de2_e9a8_11e8_9a51_80000b9bf5ebrow1_col7\" class=\"data row1 col7\" >53.07%</td> \n",
       "    </tr>    <tr> \n",
       "        <th id=\"T_a2fc5de2_e9a8_11e8_9a51_80000b9bf5eblevel0_row2\" class=\"row_heading level0 row2\" >79</th> \n",
       "        <td id=\"T_a2fc5de2_e9a8_11e8_9a51_80000b9bf5ebrow2_col0\" class=\"data row2 col0\" >SNM</td> \n",
       "        <td id=\"T_a2fc5de2_e9a8_11e8_9a51_80000b9bf5ebrow2_col1\" class=\"data row2 col1\" >0.0969704</td> \n",
       "        <td id=\"T_a2fc5de2_e9a8_11e8_9a51_80000b9bf5ebrow2_col2\" class=\"data row2 col2\" >0.0823968</td> \n",
       "        <td id=\"T_a2fc5de2_e9a8_11e8_9a51_80000b9bf5ebrow2_col3\" class=\"data row2 col3\" >0.0710433</td> \n",
       "        <td id=\"T_a2fc5de2_e9a8_11e8_9a51_80000b9bf5ebrow2_col4\" class=\"data row2 col4\" >0.0537397</td> \n",
       "        <td id=\"T_a2fc5de2_e9a8_11e8_9a51_80000b9bf5ebrow2_col5\" class=\"data row2 col5\" >84.97%</td> \n",
       "        <td id=\"T_a2fc5de2_e9a8_11e8_9a51_80000b9bf5ebrow2_col6\" class=\"data row2 col6\" >73.26%</td> \n",
       "        <td id=\"T_a2fc5de2_e9a8_11e8_9a51_80000b9bf5ebrow2_col7\" class=\"data row2 col7\" >55.42%</td> \n",
       "    </tr>    <tr> \n",
       "        <th id=\"T_a2fc5de2_e9a8_11e8_9a51_80000b9bf5eblevel0_row3\" class=\"row_heading level0 row3\" >0</th> \n",
       "        <td id=\"T_a2fc5de2_e9a8_11e8_9a51_80000b9bf5ebrow3_col0\" class=\"data row3 col0\" >ADX</td> \n",
       "        <td id=\"T_a2fc5de2_e9a8_11e8_9a51_80000b9bf5ebrow3_col1\" class=\"data row3 col1\" >0.537343</td> \n",
       "        <td id=\"T_a2fc5de2_e9a8_11e8_9a51_80000b9bf5ebrow3_col2\" class=\"data row3 col2\" >0.456878</td> \n",
       "        <td id=\"T_a2fc5de2_e9a8_11e8_9a51_80000b9bf5ebrow3_col3\" class=\"data row3 col3\" >0.394351</td> \n",
       "        <td id=\"T_a2fc5de2_e9a8_11e8_9a51_80000b9bf5ebrow3_col4\" class=\"data row3 col4\" >0.299108</td> \n",
       "        <td id=\"T_a2fc5de2_e9a8_11e8_9a51_80000b9bf5ebrow3_col5\" class=\"data row3 col5\" >85.03%</td> \n",
       "        <td id=\"T_a2fc5de2_e9a8_11e8_9a51_80000b9bf5ebrow3_col6\" class=\"data row3 col6\" >73.39%</td> \n",
       "        <td id=\"T_a2fc5de2_e9a8_11e8_9a51_80000b9bf5ebrow3_col7\" class=\"data row3 col7\" >55.66%</td> \n",
       "    </tr>    <tr> \n",
       "        <th id=\"T_a2fc5de2_e9a8_11e8_9a51_80000b9bf5eblevel0_row4\" class=\"row_heading level0 row4\" >50</th> \n",
       "        <td id=\"T_a2fc5de2_e9a8_11e8_9a51_80000b9bf5ebrow4_col0\" class=\"data row4 col0\" >LSK</td> \n",
       "        <td id=\"T_a2fc5de2_e9a8_11e8_9a51_80000b9bf5ebrow4_col1\" class=\"data row4 col1\" >8.58146</td> \n",
       "        <td id=\"T_a2fc5de2_e9a8_11e8_9a51_80000b9bf5ebrow4_col2\" class=\"data row4 col2\" >7.29771</td> \n",
       "        <td id=\"T_a2fc5de2_e9a8_11e8_9a51_80000b9bf5ebrow4_col3\" class=\"data row4 col3\" >6.24487</td> \n",
       "        <td id=\"T_a2fc5de2_e9a8_11e8_9a51_80000b9bf5ebrow4_col4\" class=\"data row4 col4\" >4.5525</td> \n",
       "        <td id=\"T_a2fc5de2_e9a8_11e8_9a51_80000b9bf5ebrow4_col5\" class=\"data row4 col5\" >85.04%</td> \n",
       "        <td id=\"T_a2fc5de2_e9a8_11e8_9a51_80000b9bf5ebrow4_col6\" class=\"data row4 col6\" >72.77%</td> \n",
       "        <td id=\"T_a2fc5de2_e9a8_11e8_9a51_80000b9bf5ebrow4_col7\" class=\"data row4 col7\" >53.05%</td> \n",
       "    </tr>    <tr> \n",
       "        <th id=\"T_a2fc5de2_e9a8_11e8_9a51_80000b9bf5eblevel0_row5\" class=\"row_heading level0 row5\" >4</th> \n",
       "        <td id=\"T_a2fc5de2_e9a8_11e8_9a51_80000b9bf5ebrow5_col0\" class=\"data row5 col0\" >AION</td> \n",
       "        <td id=\"T_a2fc5de2_e9a8_11e8_9a51_80000b9bf5ebrow5_col1\" class=\"data row5 col1\" >1.46274</td> \n",
       "        <td id=\"T_a2fc5de2_e9a8_11e8_9a51_80000b9bf5ebrow5_col2\" class=\"data row5 col2\" >1.24421</td> \n",
       "        <td id=\"T_a2fc5de2_e9a8_11e8_9a51_80000b9bf5ebrow5_col3\" class=\"data row5 col3\" >1.08513</td> \n",
       "        <td id=\"T_a2fc5de2_e9a8_11e8_9a51_80000b9bf5ebrow5_col4\" class=\"data row5 col4\" >0.855691</td> \n",
       "        <td id=\"T_a2fc5de2_e9a8_11e8_9a51_80000b9bf5ebrow5_col5\" class=\"data row5 col5\" >85.06%</td> \n",
       "        <td id=\"T_a2fc5de2_e9a8_11e8_9a51_80000b9bf5ebrow5_col6\" class=\"data row5 col6\" >74.18%</td> \n",
       "        <td id=\"T_a2fc5de2_e9a8_11e8_9a51_80000b9bf5ebrow5_col7\" class=\"data row5 col7\" >58.50%</td> \n",
       "    </tr>    <tr> \n",
       "        <th id=\"T_a2fc5de2_e9a8_11e8_9a51_80000b9bf5eblevel0_row6\" class=\"row_heading level0 row6\" >69</th> \n",
       "        <td id=\"T_a2fc5de2_e9a8_11e8_9a51_80000b9bf5ebrow6_col0\" class=\"data row6 col0\" >POWR</td> \n",
       "        <td id=\"T_a2fc5de2_e9a8_11e8_9a51_80000b9bf5ebrow6_col1\" class=\"data row6 col1\" >0.282606</td> \n",
       "        <td id=\"T_a2fc5de2_e9a8_11e8_9a51_80000b9bf5ebrow6_col2\" class=\"data row6 col2\" >0.240402</td> \n",
       "        <td id=\"T_a2fc5de2_e9a8_11e8_9a51_80000b9bf5ebrow6_col3\" class=\"data row6 col3\" >0.209316</td> \n",
       "        <td id=\"T_a2fc5de2_e9a8_11e8_9a51_80000b9bf5ebrow6_col4\" class=\"data row6 col4\" >0.163896</td> \n",
       "        <td id=\"T_a2fc5de2_e9a8_11e8_9a51_80000b9bf5ebrow6_col5\" class=\"data row6 col5\" >85.07%</td> \n",
       "        <td id=\"T_a2fc5de2_e9a8_11e8_9a51_80000b9bf5ebrow6_col6\" class=\"data row6 col6\" >74.07%</td> \n",
       "        <td id=\"T_a2fc5de2_e9a8_11e8_9a51_80000b9bf5ebrow6_col7\" class=\"data row6 col7\" >57.99%</td> \n",
       "    </tr>    <tr> \n",
       "        <th id=\"T_a2fc5de2_e9a8_11e8_9a51_80000b9bf5eblevel0_row7\" class=\"row_heading level0 row7\" >74</th> \n",
       "        <td id=\"T_a2fc5de2_e9a8_11e8_9a51_80000b9bf5ebrow7_col0\" class=\"data row7 col0\" >RCN</td> \n",
       "        <td id=\"T_a2fc5de2_e9a8_11e8_9a51_80000b9bf5ebrow7_col1\" class=\"data row7 col1\" >5.60649e-05</td> \n",
       "        <td id=\"T_a2fc5de2_e9a8_11e8_9a51_80000b9bf5ebrow7_col2\" class=\"data row7 col2\" >4.77003e-05</td> \n",
       "        <td id=\"T_a2fc5de2_e9a8_11e8_9a51_80000b9bf5ebrow7_col3\" class=\"data row7 col3\" >4.1551e-05</td> \n",
       "        <td id=\"T_a2fc5de2_e9a8_11e8_9a51_80000b9bf5ebrow7_col4\" class=\"data row7 col4\" >3.26093e-05</td> \n",
       "        <td id=\"T_a2fc5de2_e9a8_11e8_9a51_80000b9bf5ebrow7_col5\" class=\"data row7 col5\" >85.08%</td> \n",
       "        <td id=\"T_a2fc5de2_e9a8_11e8_9a51_80000b9bf5ebrow7_col6\" class=\"data row7 col6\" >74.11%</td> \n",
       "        <td id=\"T_a2fc5de2_e9a8_11e8_9a51_80000b9bf5ebrow7_col7\" class=\"data row7 col7\" >58.16%</td> \n",
       "    </tr>    <tr> \n",
       "        <th id=\"T_a2fc5de2_e9a8_11e8_9a51_80000b9bf5eblevel0_row8\" class=\"row_heading level0 row8\" >72</th> \n",
       "        <td id=\"T_a2fc5de2_e9a8_11e8_9a51_80000b9bf5ebrow8_col0\" class=\"data row8 col0\" >RDN</td> \n",
       "        <td id=\"T_a2fc5de2_e9a8_11e8_9a51_80000b9bf5ebrow8_col1\" class=\"data row8 col1\" >1.16461</td> \n",
       "        <td id=\"T_a2fc5de2_e9a8_11e8_9a51_80000b9bf5ebrow8_col2\" class=\"data row8 col2\" >0.990906</td> \n",
       "        <td id=\"T_a2fc5de2_e9a8_11e8_9a51_80000b9bf5ebrow8_col3\" class=\"data row8 col3\" >0.863865</td> \n",
       "        <td id=\"T_a2fc5de2_e9a8_11e8_9a51_80000b9bf5ebrow8_col4\" class=\"data row8 col4\" >0.679784</td> \n",
       "        <td id=\"T_a2fc5de2_e9a8_11e8_9a51_80000b9bf5ebrow8_col5\" class=\"data row8 col5\" >85.08%</td> \n",
       "        <td id=\"T_a2fc5de2_e9a8_11e8_9a51_80000b9bf5ebrow8_col6\" class=\"data row8 col6\" >74.18%</td> \n",
       "        <td id=\"T_a2fc5de2_e9a8_11e8_9a51_80000b9bf5ebrow8_col7\" class=\"data row8 col7\" >58.37%</td> \n",
       "    </tr>    <tr> \n",
       "        <th id=\"T_a2fc5de2_e9a8_11e8_9a51_80000b9bf5eblevel0_row9\" class=\"row_heading level0 row9\" >61</th> \n",
       "        <td id=\"T_a2fc5de2_e9a8_11e8_9a51_80000b9bf5ebrow9_col0\" class=\"data row9 col0\" >NEBL</td> \n",
       "        <td id=\"T_a2fc5de2_e9a8_11e8_9a51_80000b9bf5ebrow9_col1\" class=\"data row9 col1\" >6.8711</td> \n",
       "        <td id=\"T_a2fc5de2_e9a8_11e8_9a51_80000b9bf5ebrow9_col2\" class=\"data row9 col2\" >5.85041</td> \n",
       "        <td id=\"T_a2fc5de2_e9a8_11e8_9a51_80000b9bf5ebrow9_col3\" class=\"data row9 col3\" >5.07829</td> \n",
       "        <td id=\"T_a2fc5de2_e9a8_11e8_9a51_80000b9bf5ebrow9_col4\" class=\"data row9 col4\" >3.9431</td> \n",
       "        <td id=\"T_a2fc5de2_e9a8_11e8_9a51_80000b9bf5ebrow9_col5\" class=\"data row9 col5\" >85.15%</td> \n",
       "        <td id=\"T_a2fc5de2_e9a8_11e8_9a51_80000b9bf5ebrow9_col6\" class=\"data row9 col6\" >73.91%</td> \n",
       "        <td id=\"T_a2fc5de2_e9a8_11e8_9a51_80000b9bf5ebrow9_col7\" class=\"data row9 col7\" >57.39%</td> \n",
       "    </tr></tbody> \n",
       "</table> "
      ],
      "text/plain": [
       "<pandas.io.formats.style.Styler at 0x1c113b38>"
      ]
     },
     "execution_count": 34,
     "metadata": {},
     "output_type": "execute_result"
    }
   ],
   "source": [
    "#Predicted Worst Performers\n",
    "bottom_df = result_df.sort_values('24_hr_percent', ascending=True)[0:10]\n",
    "#Create a graph of the bottom 10 performers\n",
    "draw_figures(pred_transformed, bottom_df, 1000, \"bottom_performers_\")\n",
    "draw_all_figures(pred_transformed, bottom_df, 1000, \"bottom_performers\")\n",
    "\n",
    "bottom_df.style.format({\n",
    "    '24_hr_percent': '{:.2%}'.format,\n",
    "    '48_hr_percent': '{:.2%}'.format,\n",
    "    '168_hr_percent': '{:.2%}'.format\n",
    "})"
   ]
  },
  {
   "cell_type": "code",
   "execution_count": null,
   "metadata": {},
   "outputs": [],
   "source": []
  }
 ],
 "metadata": {
  "kernelspec": {
   "display_name": "Python 3",
   "language": "python",
   "name": "python3"
  },
  "language_info": {
   "codemirror_mode": {
    "name": "ipython",
    "version": 3
   },
   "file_extension": ".py",
   "mimetype": "text/x-python",
   "name": "python",
   "nbconvert_exporter": "python",
   "pygments_lexer": "ipython3",
   "version": "3.6.4"
  }
 },
 "nbformat": 4,
 "nbformat_minor": 2
}
