{
 "cells": [
  {
   "cell_type": "code",
   "execution_count": 1,
   "metadata": {
    "scrolled": false
   },
   "outputs": [],
   "source": [
    "from SRC_lstm import *"
   ]
  },
  {
   "cell_type": "code",
   "execution_count": 2,
   "metadata": {},
   "outputs": [],
   "source": [
    "#df = get_prod_data()\n",
    "#df = process_data(df)\n",
    "#df_dummy = create_encoding_matrix(df)\n",
    "#make_tensors(df)"
   ]
  },
  {
   "cell_type": "markdown",
   "metadata": {},
   "source": [
    "# Load in the Data"
   ]
  },
  {
   "cell_type": "code",
   "execution_count": 3,
   "metadata": {},
   "outputs": [],
   "source": [
    "well_life, np_gas, np_water, np_casing, np_tubing, np_static, np_choke, df_dummy, np_gas_norm, np_water_norm, \\\n",
    "    np_casing_norm, np_tubing_norm, np_static_norm, np_choke_norm = load_tensors()"
   ]
  },
  {
   "cell_type": "markdown",
   "metadata": {},
   "source": [
    "# Confirm that CUDA Functions"
   ]
  },
  {
   "cell_type": "code",
   "execution_count": 4,
   "metadata": {
    "scrolled": true
   },
   "outputs": [
    {
     "name": "stdout",
     "output_type": "stream",
     "text": [
      "Using device: cuda\n",
      "\n",
      "GeForce GTX 1070 Ti\n",
      "Memory Usage:\n",
      "Allocated: 0.0 GB\n",
      "Cached:    0.0 GB\n"
     ]
    }
   ],
   "source": [
    "# setting device on GPU if available, else CPU\n",
    "device = torch.device('cuda' if torch.cuda.is_available() else 'cpu')\n",
    "print('Using device:', device)\n",
    "print()\n",
    "\n",
    "#Additional Info when using cuda\n",
    "if device.type == 'cuda':\n",
    "    print(torch.cuda.get_device_name(0))\n",
    "    print('Memory Usage:')\n",
    "    print('Allocated:', round(torch.cuda.memory_allocated(0)/1024**3,1), 'GB')\n",
    "    print('Cached:   ', round(torch.cuda.memory_cached(0)/1024**3,1), 'GB')"
   ]
  },
  {
   "cell_type": "markdown",
   "metadata": {},
   "source": [
    "# Now we need to combine the normalized data into the joined dataset"
   ]
  },
  {
   "cell_type": "code",
   "execution_count": 5,
   "metadata": {},
   "outputs": [],
   "source": [
    "#For the sake of memory management we will only use the first portion of the joined data set.  \n",
    "#This is OK because most of the final dataset are null values that were imputed with 0\n",
    "\n",
    "#np_gas_norm = np_gas_norm[:,:1200]"
   ]
  },
  {
   "cell_type": "code",
   "execution_count": 6,
   "metadata": {},
   "outputs": [],
   "source": [
    "#We will combine the following information:\n",
    "#normalized gas rate\n",
    "#normalized water rate\n",
    "#normalized casing pressure\n",
    "#normalized static pressure\n",
    "#normalized tubing pressure\n",
    "#normalized choke\n",
    "\n",
    "types_of_input = 6\n",
    "joined = np.empty((np_gas_norm.shape[0], np_gas_norm.shape[1]*types_of_input), 'float64')\n",
    "\n",
    "#Iterate through all time steps and concatenate the datasets\n",
    "for i in range(np_gas_norm.shape[1]):\n",
    "    joined[:,types_of_input*i] = np_gas_norm[:,i]\n",
    "    joined[:,types_of_input*i+1] = np_water_norm[:,i]\n",
    "    joined[:,types_of_input*i+2] = np_casing_norm[:,i]\n",
    "    joined[:,types_of_input*i+3] = np_tubing_norm[:,i]\n",
    "    joined[:,types_of_input*i+4] = np_static_norm[:,i]\n",
    "    joined[:,types_of_input*i+5] = np_choke_norm[:,i]"
   ]
  },
  {
   "cell_type": "code",
   "execution_count": 7,
   "metadata": {
    "scrolled": false
   },
   "outputs": [
    {
     "data": {
      "image/png": "[encoded data removed]",
      "text/plain": [
       "<Figure size 432x288 with 1 Axes>"
      ]
     },
     "metadata": {
      "needs_background": "light"
     },
     "output_type": "display_data"
    }
   ],
   "source": [
    "#We are able to effectively regenerate the input data\n",
    "test = regenerate_gas_rate(joined, types_of_input)\n",
    "fig = plt.plot(test[0])"
   ]
  },
  {
   "cell_type": "code",
   "execution_count": 8,
   "metadata": {},
   "outputs": [],
   "source": [
    "#Define the input nodes\n",
    "num_vars = 6 #sources of data\n",
    "length = 30 #days of values to look at\n",
    "dummy_vars = df_dummy.shape[1] #number of dummy variables in the input\n",
    "\n",
    "input_nodes = num_vars * length + df_dummy.shape[1]"
   ]
  },
  {
   "cell_type": "code",
   "execution_count": 9,
   "metadata": {},
   "outputs": [],
   "source": [
    "#Number of wells we plan to analyze\n",
    "number_of_wells = joined.shape[0]"
   ]
  },
  {
   "cell_type": "code",
   "execution_count": 10,
   "metadata": {},
   "outputs": [],
   "source": [
    "def make_chunks(joined, num_vars, number_of_chunks):\n",
    "    for i in range(number_of_chunks):\n",
    "        chunk = joined[:,i*(joined.shape[1]//num_vars//number_of_chunks)*num_vars:(i+1)*(joined.shape[1]//num_vars//number_of_chunks)*num_vars]\n",
    "        yield i*(joined.shape[1]//num_vars//number_of_chunks), chunk"
   ]
  },
  {
   "cell_type": "code",
   "execution_count": 11,
   "metadata": {},
   "outputs": [],
   "source": [
    "# #Define the input, test, and target\n",
    "# data = torch.from_numpy(joined[:number_of_wells, :-num_vars*1])\n",
    "# data = data.to(device)\n",
    "\n",
    "# test_input = torch.from_numpy(joined[:3, :-num_vars*1])\n",
    "# test_input = test_input.to(device)\n",
    "\n",
    "# target = torch.from_numpy(joined[:number_of_wells, length*num_vars*1:])\n",
    "# target = target.to(device)\n",
    "\n",
    "# test_target = torch.from_numpy(joined[:3, length*num_vars*1:])\n",
    "# test_target = test_target.to(device)"
   ]
  },
  {
   "cell_type": "code",
   "execution_count": 12,
   "metadata": {},
   "outputs": [],
   "source": [
    "import copy"
   ]
  },
  {
   "cell_type": "code",
   "execution_count": 13,
   "metadata": {},
   "outputs": [],
   "source": [
    "def make_target(output, target, types_of_input, device):\n",
    "    types_of_input = 6\n",
    "    joined = np.empty((target.shape), 'float64')\n",
    "    output = copy.copy(output.cpu().detach().numpy())\n",
    "    target = copy.copy(target.cpu())\n",
    "\n",
    "    #Iterate through all time steps and concatenate the datasets\n",
    "    for i in range(target.shape[1]//types_of_input):\n",
    "        joined[:,types_of_input*i] = target[:,types_of_input*i]\n",
    "        joined[:,types_of_input*i+1] = output[:,types_of_input*i+1]\n",
    "        joined[:,types_of_input*i+2] = output[:,types_of_input*i+2]\n",
    "        joined[:,types_of_input*i+3] = output[:,types_of_input*i+3]\n",
    "        joined[:,types_of_input*i+4] = output[:,types_of_input*i+4]\n",
    "        joined[:,types_of_input*i+5] = output[:,types_of_input*i+5]\n",
    "    \n",
    "    joined = torch.from_numpy(joined)\n",
    "    joined = joined.to(device)\n",
    "    return joined"
   ]
  },
  {
   "cell_type": "markdown",
   "metadata": {},
   "source": [
    "# Run the Model on the GPU"
   ]
  },
  {
   "cell_type": "code",
   "execution_count": 14,
   "metadata": {},
   "outputs": [],
   "source": [
    "from __future__ import print_function\n",
    "import torch\n",
    "import torch.nn as nn\n",
    "import torch.optim as optim\n",
    "import numpy as np\n",
    "import math\n",
    "import pickle\n",
    "import pandas as pd\n",
    "\n",
    "class Sequence(nn.Module):\n",
    "    \n",
    "    def __init__(self, input_nodes):\n",
    "        super(Sequence, self).__init__()\n",
    "        \n",
    "        self.input_nodes = input_nodes\n",
    "        self.output_nodes = num_vars\n",
    "        \n",
    "        self.number_of_nodes_1 = input_nodes//2\n",
    "        self.number_of_nodes_2 = self.number_of_nodes_1//2\n",
    "        self.number_of_nodes_3 = self.number_of_nodes_2//2\n",
    "        \n",
    "        self.lstm1 = nn.LSTMCell(self.input_nodes, self.number_of_nodes_1)\n",
    "        self.lstm2 = nn.LSTMCell(self.number_of_nodes_1, self.number_of_nodes_2)\n",
    "        self.lstm3 = nn.LSTMCell(self.number_of_nodes_2, self.number_of_nodes_3)\n",
    "        self.linear = nn.Linear(self.number_of_nodes_3, self.output_nodes)\n",
    "        print(\"Sequence Model Initialized\")\n",
    "           \n",
    "    def forward(self, data, future = 0):\n",
    "        outputs = []\n",
    "        \n",
    "        h_t = torch.zeros(data.size(0), self.number_of_nodes_1, device=device, dtype=torch.double)\n",
    "        c_t = torch.zeros(data.size(0), self.number_of_nodes_1, device=device, dtype=torch.double)\n",
    "        h_t2 = torch.zeros(data.size(0), self.number_of_nodes_2, device=device, dtype=torch.double)\n",
    "        c_t2 = torch.zeros(data.size(0), self.number_of_nodes_2, device=device, dtype=torch.double)\n",
    "        h_t3 = torch.zeros(data.size(0), self.number_of_nodes_3, device=device, dtype=torch.double)\n",
    "        c_t3 = torch.zeros(data.size(0), self.number_of_nodes_3, device=device, dtype=torch.double)\n",
    "\n",
    "        #Break the data up into chunks where we can determine the number of input nodes\n",
    "        #We exclude the df_dummy shape as that must be added in for each input\n",
    "        number_of_chunks = data.shape[1] - (self.input_nodes - df_dummy.shape[1] - num_vars*1)\n",
    "        \n",
    "        for i in range(number_of_chunks//(num_vars*1)):\n",
    "            \n",
    "            #Break the data into each chunk\n",
    "            input_t = data[:,num_vars*1*i:num_vars*1*i+(input_nodes-df_dummy.shape[1])]\n",
    "            \n",
    "            #print(input_t.shape)\n",
    "            #print(torch.tensor(df_dummy.values,dtype=torch.float64).shape)\n",
    "                  \n",
    "            #Here we now add in the non-changing matrix of categorical variables stored in df_dummy\n",
    "            input_t = torch.cat((input_t,torch.tensor(df_dummy.iloc[:input_t.shape[0],:].values, \n",
    "                                                      device=device, dtype=torch.float64)),1)\n",
    "            \n",
    "            #print(input_t.shape)\n",
    "            \n",
    "            h_t, c_t = self.lstm1(input_t, (h_t, c_t))\n",
    "            h_t2, c_t2 = self.lstm2(h_t, (h_t2, c_t2))\n",
    "            h_t3, c_t3 = self.lstm3(h_t2, (h_t3, c_t3))\n",
    "            output = self.linear(h_t3)\n",
    "            outputs += [output]\n",
    "                  \n",
    "        for i in range(future): # if we should predict the future\n",
    "            #Output is num_vars (6)\n",
    "            output = outputs[-(self.input_nodes-df_dummy.shape[1])//(num_vars):]\n",
    "            #print(len(output))\n",
    "            output = torch.stack(output, 1)\n",
    "            #print(output.shape)\n",
    "            output = output.reshape(output.shape[0],output.shape[1]*output.shape[2])\n",
    "            #print(output.shape)\n",
    "            #output = output[:number_of_wells,-num_vars*length:]\n",
    "            #print(output.shape)\n",
    "            \n",
    "            #We need to add back in the df_dummy\n",
    "            output = torch.cat((output,torch.tensor(df_dummy.iloc[:output.shape[0],:].values,\n",
    "                                                    device=device, dtype=torch.float64)),1)\n",
    "            #output = np.hstack((output,df_dummy.iloc[:number_of_wells,:].values))\n",
    "            \n",
    "            #print(\"torch tensor concatenated with df_dummy\")\n",
    "            #print(output.shape)\n",
    "            \n",
    "            h_t, c_t = self.lstm1(output, (h_t, c_t))\n",
    "            h_t2, c_t2 = self.lstm2(h_t, (h_t2, c_t2))\n",
    "            h_t3, c_t3 = self.lstm3(h_t2, (h_t3, c_t3))\n",
    "            output = self.linear(h_t3)\n",
    "            outputs += [output]\n",
    "        \n",
    "        outputs = torch.stack(outputs, 1)\n",
    "        outputs = outputs.reshape(outputs.shape[0],outputs.shape[1]*outputs.shape[2])\n",
    "        #print(outputs.shape)\n",
    "        #outputs = torch.stack(outputs, 1).reshape((1,self.output_nodes*len(outputs)))\n",
    "        return outputs"
   ]
  },
  {
   "cell_type": "code",
   "execution_count": 15,
   "metadata": {},
   "outputs": [],
   "source": [
    "def mask_output(out, target, well_life, start):\n",
    "    \"\"\"Any well item that has a length greater than its duration from the well_list is maked from the target,\n",
    "    we can use the chunk start point to determine when to set the output to the identical values as the target\"\"\"\n",
    "    for i, well in enumerate(well_life):\n",
    "        out[i,6*(well-start):] = target[i,6*(well-start):]\n",
    "    return out\n",
    "\n",
    "def mask_zeros(out, target, well_life, start):\n",
    "    \"\"\"If the target gas rate is 0, ignore the value\"\"\"\n",
    "    for i, well in enumerate(well_life):\n",
    "        for gas_rate in range(i):\n",
    "            if(target[i, 6*gas_rate] == 0):\n",
    "                out[i,6*gas_rate] = 0\n",
    "    return out\n",
    "    "
   ]
  },
  {
   "cell_type": "code",
   "execution_count": 16,
   "metadata": {},
   "outputs": [],
   "source": [
    "def closure():\n",
    "    optimizer.zero_grad()\n",
    "    #Output predicts the next values\n",
    "    out = seq(data)\n",
    "    #print(\"in closure:\", out.shape, target.shape)\n",
    "    \n",
    "    #We can apply a mask here on the output function if the values should be zeros or exceed current well life\n",
    "    out = mask_output(out, target, well_life, start)\n",
    "    out = mask_zeros(out, target, well_life, start)\n",
    "    \n",
    "    new_target = make_target(out, target, types_of_input, device)\n",
    "    loss = criterion(out, new_target)\n",
    "    \n",
    "    print('loss:', loss.item())\n",
    "    loss.backward()\n",
    "    return loss\n",
    "\n",
    "def draw(yi, color):\n",
    "    plt.plot(np.arange(np_gas_norm.shape[1]), yi[:np_gas_norm.shape[1]], color, linewidth = 2.0)\n",
    "    plt.plot(np.arange(np_gas_norm.shape[1], np_gas_norm.shape[1] + future - length), yi[np_gas_norm.shape[1]:], color + ':', linewidth = 2.0)\n",
    "\n",
    "def iteration_plot(y):\n",
    "    # draw the result\n",
    "    plt.figure(figsize=(30,10))\n",
    "    plt.title('Predict future values for time sequences\\n(Dashlines are predicted values)', fontsize=30)\n",
    "    plt.xlabel('x', fontsize=20)\n",
    "    plt.ylabel('y', fontsize=20)\n",
    "    plt.xticks(fontsize=20)\n",
    "    plt.yticks(fontsize=20)\n",
    "    draw(y[0], 'r')\n",
    "    draw(y[1], 'b')\n",
    "    draw(y[2], 'g')\n",
    "    plt.savefig('gas/predict_iteration_%d.pdf'%i)\n",
    "    plt.close()"
   ]
  },
  {
   "cell_type": "code",
   "execution_count": 17,
   "metadata": {},
   "outputs": [],
   "source": [
    "chunks = list(make_chunks(joined, num_vars, 3))"
   ]
  },
  {
   "cell_type": "code",
   "execution_count": 18,
   "metadata": {},
   "outputs": [],
   "source": [
    "# #Define the input, test, and target\n",
    "# data = torch.from_numpy(joined[:number_of_wells, :-num_vars*1])\n",
    "# data = data.to(device)\n",
    "\n",
    "# test_input = torch.from_numpy(joined[:3, :-num_vars*1])\n",
    "# test_input = test_input.to(device)\n",
    "\n",
    "# target = torch.from_numpy(joined[:number_of_wells, length*num_vars*1:])\n",
    "# target = target.to(device)\n",
    "\n",
    "# test_target = torch.from_numpy(joined[:3, length*num_vars*1:])\n",
    "# test_target = test_target.to(device)"
   ]
  },
  {
   "cell_type": "code",
   "execution_count": null,
   "metadata": {
    "scrolled": true
   },
   "outputs": [
    {
     "name": "stdout",
     "output_type": "stream",
     "text": [
      "Sequence Model Initialized\n",
      "Learning Rate:  0.8695652173913044\n",
      "EPOCH:  0\n",
      "loss: 0.019092480796995277\n",
      "loss: 0.01755494603450444\n",
      "loss: 0.003447176998543916\n",
      "loss: 0.0032955239901682853\n",
      "loss: 0.0032802130823807543\n",
      "loss: 0.0031676790634912314\n",
      "loss: 0.0029915419732915315\n",
      "loss: 0.002694881771290053\n",
      "loss: 0.0018428503744464084\n",
      "loss: 0.009293657191269178\n",
      "loss: 0.0015693890619815334\n",
      "loss: 0.0015465538434094484\n",
      "loss: 0.0013448958242238329\n",
      "loss: 0.0011897331503254792\n",
      "loss: 0.0010317983887309606\n",
      "loss: 0.0009898783819174064\n",
      "loss: 0.0009660369421598427\n",
      "loss: 0.0009429876436638303\n",
      "loss: 0.0009223957792539812\n",
      "loss: 0.0008718098001873446\n",
      "loss: 0.0001639100659481056\n",
      "loss: 0.00014244089007587701\n",
      "loss: 0.00012498461777689113\n",
      "loss: 0.0001243578259373721\n",
      "loss: 0.0001240086198145\n",
      "loss: 0.0001237829562690532\n",
      "loss: 0.00012311030799868984\n",
      "loss: 0.00012172923186511333\n"
     ]
    }
   ],
   "source": [
    "iterations = 30\n",
    "\n",
    "# build the model\n",
    "seq = Sequence(input_nodes)\n",
    "seq.double()\n",
    "seq.cuda()\n",
    "\n",
    "criterion = nn.MSELoss()\n",
    "\n",
    "# use LBFGS as optimizer since we can load the whole data to train\n",
    "optimizer = optim.LBFGS(seq.parameters(), lr=1)\n",
    "\n",
    "#begin to train\n",
    "for i in range(iterations):\n",
    "    #Change the learning rate each Epoch\n",
    "    for param_group in optimizer.param_groups:\n",
    "        param_group['lr'] = param_group['lr'] / (1.15)\n",
    "        print(\"Learning Rate: \", param_group['lr'])\n",
    "\n",
    "    print('EPOCH: ', i)\n",
    "    \n",
    "    #Perform gradient on each chunk\n",
    "    for start, chunk in chunks:\n",
    "        #Define the input, test, and target\n",
    "        data = torch.from_numpy(chunk[:number_of_wells, :-num_vars*1])\n",
    "        data = data.to(device)\n",
    "\n",
    "        test_input = torch.from_numpy(chunk[:3, :-num_vars*1])\n",
    "        test_input = test_input.to(device)\n",
    "\n",
    "        target = torch.from_numpy(chunk[:number_of_wells, length*num_vars*1:])\n",
    "        target = target.to(device)\n",
    "\n",
    "        test_target = torch.from_numpy(chunk[:3, length*num_vars*1:])\n",
    "        test_target = test_target.to(device)\n",
    "        optimizer.step(closure)\n",
    "    \n",
    "    # begin to predict, no need to track gradient here\n",
    "    with torch.no_grad():\n",
    "        future = 1000\n",
    "        pred = seq(test_input, future=future)\n",
    "        \n",
    "        new_test_target = make_target(pred, test_target, types_of_input, device)\n",
    "        \n",
    "        loss = criterion(pred[:, :-(num_vars*future)], test_target)\n",
    "        print('test loss:', loss.item())\n",
    "        y = pred.detach().cpu().numpy()\n",
    "        y = regenerate_gas_rate(y, types_of_input)\n",
    "    \n",
    "    # draw the result\n",
    "    #iteration_plot(y)\n",
    "    \n",
    "    #Save the model\n",
    "    with open('gas_forecast.pickle', 'wb') as handle:\n",
    "        pickle.dump(seq, handle, protocol=pickle.HIGHEST_PROTOCOL)"
   ]
  },
  {
   "cell_type": "code",
   "execution_count": null,
   "metadata": {},
   "outputs": [],
   "source": [
    "import pickle\n",
    "#with open('gas_forecast.pickle', 'wb') as handle:\n",
    "#    pickle.dump(seq, handle, protocol=pickle.HIGHEST_PROTOCOL)\n",
    " \n",
    "with open('gas_forecast.pickle', 'rb') as handle:\n",
    "    seq = pickle.load(handle)"
   ]
  },
  {
   "cell_type": "markdown",
   "metadata": {},
   "source": [
    "# Need to create forecasts for all wells but only from the last actual from well_life"
   ]
  },
  {
   "cell_type": "code",
   "execution_count": null,
   "metadata": {},
   "outputs": [],
   "source": [
    "#Create Predictions for all coins\n",
    "criterion = nn.MSELoss()\n",
    "\n",
    "with torch.no_grad():\n",
    "    future = 1000\n",
    "    pred = seq(data, future=future)\n",
    "    loss = criterion(pred[:, :-(6*future)], target)\n",
    "    y = pred.detach().cpu().numpy()\n",
    "\n",
    "    #y1, y2, y3, y4, y5, y6 = regenerate_all(y, types_of_input)"
   ]
  },
  {
   "cell_type": "code",
   "execution_count": null,
   "metadata": {},
   "outputs": [],
   "source": [
    "#Transform the predictions back to the gas rate values\n",
    "y1_transformed = y1 * np.linalg.norm(np_gas, ord=np.inf, axis=1, keepdims=True)\n",
    "y2_transformed = y2 * np.linalg.norm(np_water, ord=np.inf, axis=1, keepdims=True)\n",
    "y3_transformed = y3 * np.linalg.norm(np_casing, ord=np.inf, axis=1, keepdims=True)\n",
    "y4_transformed = y4 * np.linalg.norm(np_tubing, ord=np.inf, axis=1, keepdims=True)\n",
    "y5_transformed = y5 * np.linalg.norm(np_static, ord=np.inf, axis=1, keepdims=True)\n",
    "y6_transformed = y6 * np.linalg.norm(np_choke, ord=np.inf, axis=1, keepdims=True)"
   ]
  },
  {
   "cell_type": "code",
   "execution_count": null,
   "metadata": {},
   "outputs": [],
   "source": [
    "well_life[0]"
   ]
  },
  {
   "cell_type": "code",
   "execution_count": null,
   "metadata": {},
   "outputs": [],
   "source": [
    "y.shape[1]//6"
   ]
  },
  {
   "cell_type": "code",
   "execution_count": null,
   "metadata": {},
   "outputs": [],
   "source": [
    "np_gas.shape"
   ]
  },
  {
   "cell_type": "code",
   "execution_count": null,
   "metadata": {},
   "outputs": [],
   "source": [
    "def draw_figures(y, well_life, np_gas, np_water, np_casing, np_tubing, np_static, np_choke, future=0):\n",
    "    #Create a figure for each ticker\n",
    "    y1, y2, y3, y4, y5, y6 = regenerate_all(y, types_of_input)\n",
    "    \n",
    "    #Transform the predictions back to the gas rate values\n",
    "    y1_transformed = y1 * np.linalg.norm(np_gas, ord=np.inf, axis=1, keepdims=True)\n",
    "    y2_transformed = y2 * np.linalg.norm(np_water, ord=np.inf, axis=1, keepdims=True)\n",
    "    y3_transformed = y3 * np.linalg.norm(np_casing, ord=np.inf, axis=1, keepdims=True)\n",
    "    y4_transformed = y4 * np.linalg.norm(np_tubing, ord=np.inf, axis=1, keepdims=True)\n",
    "    y5_transformed = y5 * np.linalg.norm(np_static, ord=np.inf, axis=1, keepdims=True)\n",
    "    y6_transformed = y6 * np.linalg.norm(np_choke, ord=np.inf, axis=1, keepdims=True)\n",
    "    \n",
    "    for i, duration in enumerate(well_life):\n",
    "        \n",
    "        # draw the result\n",
    "        plt.figure(figsize=(30,10))\n",
    "        plt.title('Predict future values for time sequences\\n(Dashlines are predicted values)', fontsize=30)\n",
    "        plt.xticks(fontsize=20)\n",
    "        plt.yticks(fontsize=20)\n",
    "        \n",
    "        #plot the historical values\n",
    "        plt.plot(np.arange(well_life[i]), np_gas[i, :well_life[i]], 'r', linewidth = 2.0, label='gas')\n",
    "        plt.plot(np.arange(well_life[i]), np_water[i, :well_life[i]], 'b', linewidth = 2.0, label='water')\n",
    "        plt.plot(np.arange(well_life[i]), np_casing[i, :well_life[i]], 'g', linewidth = 2.0, label='casing')\n",
    "        plt.plot(np.arange(well_life[i]), np_water[i, :well_life[i]], 'c', linewidth = 2.0, label='tubing')\n",
    "        plt.plot(np.arange(well_life[i]), np_water[i, :well_life[i]], 'y', linewidth = 2.0, label='static')\n",
    "        plt.plot(np.arange(well_life[i]), np_water[i, :well_life[i]], 'k', linewidth = 2.0, label='choke')\n",
    "        \n",
    "        #Plot the predicted future values\n",
    "        plt.plot(np.arange(well_life[i],well_life[i]+future), y1_transformed[i, -future:], 'r-', linewidth = 2.0, label='gas')\n",
    "        plt.plot(np.arange(well_life[i],well_life[i]+future), y2_transformed[i, -future:], 'b-', linewidth = 2.0, label='water')\n",
    "        plt.plot(np.arange(well_life[i],well_life[i]+future), y3_transformed[i, -future:], 'g-', linewidth = 2.0, label='casing')\n",
    "        plt.plot(np.arange(well_life[i],well_life[i]+future), y4_transformed[i, -future:], 'c-', linewidth = 2.0, label='tubing')\n",
    "        plt.plot(np.arange(well_life[i],well_life[i]+future), y5_transformed[i, -future:], 'y-', linewidth = 2.0, label='static')\n",
    "        plt.plot(np.arange(well_life[i],well_life[i]+future), y6_transformed[i, -future:], 'k-', linewidth = 2.0, label='choke')\n",
    "        \n",
    "        plt.savefig('well_graphs/' + str(i) + '.pdf')\n",
    "        plt.close()"
   ]
  },
  {
   "cell_type": "code",
   "execution_count": null,
   "metadata": {
    "scrolled": true
   },
   "outputs": [],
   "source": [
    "draw_figures(y, well_life, np_gas, np_water, np_casing, np_tubing, np_static, np_choke, future)"
   ]
  },
  {
   "cell_type": "code",
   "execution_count": null,
   "metadata": {
    "scrolled": true
   },
   "outputs": [],
   "source": [
    "#Predicted Top Performers\n",
    "top_df = result_df.sort_values('24_hr_percent', ascending=False)[0:10]\n",
    "#Create a graph of the top 10 performers\n",
    "draw_figures(pred_transformed, top_df, 1000, \"top_performers_\")\n",
    "draw_all_figures(pred_transformed, top_df, 1000, \"top_performers\")\n",
    "\n",
    "top_df.style.format({\n",
    "    '24_hr_percent': '{:.2%}'.format,\n",
    "    '48_hr_percent': '{:.2%}'.format,\n",
    "    '168_hr_percent': '{:.2%}'.format\n",
    "})"
   ]
  }
 ],
 "metadata": {
  "kernelspec": {
   "display_name": "Python 3",
   "language": "python",
   "name": "python3"
  },
  "language_info": {
   "codemirror_mode": {
    "name": "ipython",
    "version": 3
   },
   "file_extension": ".py",
   "mimetype": "text/x-python",
   "name": "python",
   "nbconvert_exporter": "python",
   "pygments_lexer": "ipython3",
   "version": "3.7.0"
  }
 },
 "nbformat": 4,
 "nbformat_minor": 2
}
