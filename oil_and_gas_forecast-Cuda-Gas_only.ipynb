{
 "cells": [
  {
   "cell_type": "code",
   "execution_count": 1,
   "metadata": {
    "scrolled": false
   },
   "outputs": [],
   "source": [
    "from SRC_lstm import *"
   ]
  },
  {
   "cell_type": "code",
   "execution_count": 2,
   "metadata": {},
   "outputs": [],
   "source": [
    "#df = get_prod_data()\n",
    "#df = process_data(df)\n",
    "#df_dummy = create_encoding_matrix(df)\n",
    "#make_tensors(df)"
   ]
  },
  {
   "cell_type": "markdown",
   "metadata": {},
   "source": [
    "# Load in the Data"
   ]
  },
  {
   "cell_type": "code",
   "execution_count": 3,
   "metadata": {},
   "outputs": [],
   "source": [
    "well_life, np_gas, np_water, np_casing, np_tubing, np_static, np_choke, df_dummy, np_gas_norm, np_water_norm, \\\n",
    "    np_casing_norm, np_tubing_norm, np_static_norm, np_choke_norm = load_tensors()"
   ]
  },
  {
   "cell_type": "markdown",
   "metadata": {},
   "source": [
    "# Confirm that CUDA Functions"
   ]
  },
  {
   "cell_type": "code",
   "execution_count": 4,
   "metadata": {},
   "outputs": [
    {
     "name": "stdout",
     "output_type": "stream",
     "text": [
      "Using device: cuda\n",
      "\n",
      "GeForce GTX 1070 Ti\n",
      "Memory Usage:\n",
      "Allocated: 0.0 GB\n",
      "Cached:    0.0 GB\n"
     ]
    }
   ],
   "source": [
    "# setting device on GPU if available, else CPU\n",
    "device = torch.device('cuda' if torch.cuda.is_available() else 'cpu')\n",
    "print('Using device:', device)\n",
    "print()\n",
    "\n",
    "#Additional Info when using cuda\n",
    "if device.type == 'cuda':\n",
    "    print(torch.cuda.get_device_name(0))\n",
    "    print('Memory Usage:')\n",
    "    print('Allocated:', round(torch.cuda.memory_allocated(0)/1024**3,1), 'GB')\n",
    "    print('Cached:   ', round(torch.cuda.memory_cached(0)/1024**3,1), 'GB')"
   ]
  },
  {
   "cell_type": "markdown",
   "metadata": {},
   "source": [
    "# Now we need to combine the normalized data into the joined dataset"
   ]
  },
  {
   "cell_type": "code",
   "execution_count": 5,
   "metadata": {},
   "outputs": [],
   "source": [
    "#poop = [i for i in range(10)]"
   ]
  },
  {
   "cell_type": "code",
   "execution_count": 6,
   "metadata": {},
   "outputs": [],
   "source": [
    "# def make_chunks(poop):\n",
    "#     for i in poop:\n",
    "#         yield i"
   ]
  },
  {
   "cell_type": "code",
   "execution_count": 7,
   "metadata": {},
   "outputs": [],
   "source": [
    "#For the sake of memory management we will only use the first portion of the joined data set.  \n",
    "#This is OK because most of the final dataset are null values that were imputed with 0\n",
    "\n",
    "np_gas_norm = np_gas_norm[:,:1200]"
   ]
  },
  {
   "cell_type": "code",
   "execution_count": 8,
   "metadata": {},
   "outputs": [],
   "source": [
    "#We will combine the following information:\n",
    "#normalized gas rate\n",
    "#normalized water rate\n",
    "#normalized casing pressure\n",
    "#normalized static pressure\n",
    "#normalized tubing pressure\n",
    "#normalized choke\n",
    "\n",
    "types_of_input = 6\n",
    "joined = np.empty((np_gas_norm.shape[0], np_gas_norm.shape[1]*types_of_input), 'float64')\n",
    "\n",
    "#Iterate through all time steps and concatenate the datasets\n",
    "for i in range(np_gas_norm.shape[1]):\n",
    "    joined[:,types_of_input*i] = np_gas_norm[:,i]\n",
    "    joined[:,types_of_input*i+1] = np_water_norm[:,i]\n",
    "    joined[:,types_of_input*i+2] = np_casing_norm[:,i]\n",
    "    joined[:,types_of_input*i+3] = np_tubing_norm[:,i]\n",
    "    joined[:,types_of_input*i+4] = np_static_norm[:,i]\n",
    "    joined[:,types_of_input*i+5] = np_choke_norm[:,i]"
   ]
  },
  {
   "cell_type": "code",
   "execution_count": 9,
   "metadata": {
    "scrolled": true
   },
   "outputs": [
    {
     "data": {
      "image/png": "[encoded data removed]",
      "text/plain": [
       "<Figure size 432x288 with 1 Axes>"
      ]
     },
     "metadata": {
      "needs_background": "light"
     },
     "output_type": "display_data"
    }
   ],
   "source": [
    "#We are able to effectively regenerate the input data\n",
    "test = regenerate_gas_rate(joined, types_of_input)\n",
    "fig = plt.plot(test[0])"
   ]
  },
  {
   "cell_type": "code",
   "execution_count": 10,
   "metadata": {},
   "outputs": [],
   "source": [
    "#Define the input nodes\n",
    "num_vars = 6 #sources of data\n",
    "length = 30 #days of values to look at\n",
    "dummy_vars = df_dummy.shape[1] #number of dummy variables in the input\n",
    "\n",
    "input_nodes = num_vars * length + df_dummy.shape[1]"
   ]
  },
  {
   "cell_type": "code",
   "execution_count": 11,
   "metadata": {},
   "outputs": [],
   "source": [
    "#Number of wells we plan to analyze\n",
    "number_of_wells = joined.shape[0]"
   ]
  },
  {
   "cell_type": "code",
   "execution_count": 12,
   "metadata": {},
   "outputs": [],
   "source": [
    "#Define the input, test, and target\n",
    "data = torch.from_numpy(joined[:number_of_wells, :-num_vars*1])\n",
    "data = data.to(device)\n",
    "\n",
    "test_input = torch.from_numpy(joined[:3, :-num_vars*1])\n",
    "test_input = test_input.to(device)\n",
    "\n",
    "target = torch.from_numpy(np_gas_norm[:number_of_wells, length*1:])\n",
    "target = target.to(device)\n",
    "\n",
    "test_target = torch.from_numpy(np_gas_norm[:3, length*1:])\n",
    "test_target = test_target.to(device)"
   ]
  },
  {
   "cell_type": "code",
   "execution_count": 13,
   "metadata": {},
   "outputs": [
    {
     "data": {
      "text/plain": [
       "torch.Size([302, 1170])"
      ]
     },
     "execution_count": 13,
     "metadata": {},
     "output_type": "execute_result"
    }
   ],
   "source": [
    "target.shape"
   ]
  },
  {
   "cell_type": "markdown",
   "metadata": {},
   "source": [
    "# Run the Model on the GPU"
   ]
  },
  {
   "cell_type": "code",
   "execution_count": 14,
   "metadata": {},
   "outputs": [],
   "source": [
    "from __future__ import print_function\n",
    "import torch\n",
    "import torch.nn as nn\n",
    "import torch.optim as optim\n",
    "import numpy as np\n",
    "import math\n",
    "import pickle\n",
    "import pandas as pd\n",
    "\n",
    "class Sequence(nn.Module):\n",
    "    \n",
    "    def __init__(self, input_nodes):\n",
    "        super(Sequence, self).__init__()\n",
    "        \n",
    "        self.input_nodes = input_nodes\n",
    "        self.output_nodes = num_vars\n",
    "        \n",
    "        self.number_of_nodes_1 = input_nodes//2\n",
    "        self.number_of_nodes_2 = self.number_of_nodes_1//2\n",
    "        self.number_of_nodes_3 = self.number_of_nodes_2//2\n",
    "        \n",
    "        self.lstm1 = nn.LSTMCell(self.input_nodes, self.number_of_nodes_1)\n",
    "        self.lstm2 = nn.LSTMCell(self.number_of_nodes_1, self.number_of_nodes_2)\n",
    "        self.lstm3 = nn.LSTMCell(self.number_of_nodes_2, self.number_of_nodes_3)\n",
    "        self.linear = nn.Linear(self.number_of_nodes_3, self.output_nodes)\n",
    "        print(\"Sequence Model Initialized\")\n",
    "           \n",
    "    def forward(self, data, future = 0):\n",
    "        outputs = []\n",
    "        \n",
    "        h_t = torch.zeros(data.size(0), self.number_of_nodes_1, device=device, dtype=torch.double)\n",
    "        c_t = torch.zeros(data.size(0), self.number_of_nodes_1, device=device, dtype=torch.double)\n",
    "        h_t2 = torch.zeros(data.size(0), self.number_of_nodes_2, device=device, dtype=torch.double)\n",
    "        c_t2 = torch.zeros(data.size(0), self.number_of_nodes_2, device=device, dtype=torch.double)\n",
    "        h_t3 = torch.zeros(data.size(0), self.number_of_nodes_3, device=device, dtype=torch.double)\n",
    "        c_t3 = torch.zeros(data.size(0), self.number_of_nodes_3, device=device, dtype=torch.double)\n",
    "\n",
    "        #Break the data up into chunks where we can determine the number of input nodes\n",
    "        #We exclude the df_dummy shape as that must be added in for each input\n",
    "        number_of_chunks = data.shape[1] - (self.input_nodes - df_dummy.shape[1] - num_vars*1)\n",
    "        \n",
    "        for i in range(number_of_chunks//(num_vars*1)):\n",
    "            \n",
    "            #Break the data into each chunk\n",
    "            input_t = data[:,num_vars*1*i:num_vars*1*i+(input_nodes-df_dummy.shape[1])]\n",
    "            \n",
    "            #print(input_t.shape)\n",
    "            #print(torch.tensor(df_dummy.values,dtype=torch.float64).shape)\n",
    "                  \n",
    "            #Here we now add in the non-changing matrix of categorical variables stored in df_dummy\n",
    "            input_t = torch.cat((input_t,torch.tensor(df_dummy.iloc[:input_t.shape[0],:].values, \n",
    "                                                      device=device, dtype=torch.float64)),1)\n",
    "            \n",
    "            #print(input_t.shape)\n",
    "            \n",
    "            h_t, c_t = self.lstm1(input_t, (h_t, c_t))\n",
    "            h_t2, c_t2 = self.lstm2(h_t, (h_t2, c_t2))\n",
    "            h_t3, c_t3 = self.lstm3(h_t2, (h_t3, c_t3))\n",
    "            output = self.linear(h_t3)\n",
    "            outputs += [output]\n",
    "                  \n",
    "        for i in range(future): # if we should predict the future\n",
    "            #Output is num_vars (6)\n",
    "            output = outputs[-(self.input_nodes-df_dummy.shape[1])//(num_vars):]\n",
    "            #print(len(output))\n",
    "            output = torch.stack(output, 1)\n",
    "            #print(output.shape)\n",
    "            output = output.reshape(output.shape[0],output.shape[1]*output.shape[2])\n",
    "            #print(output.shape)\n",
    "            #output = output[:number_of_wells,-num_vars*length:]\n",
    "            #print(output.shape)\n",
    "            \n",
    "            #We need to add back in the df_dummy\n",
    "            output = torch.cat((output,torch.tensor(df_dummy.iloc[:output.shape[0],:].values,\n",
    "                                                    device=device, dtype=torch.float64)),1)\n",
    "            #output = np.hstack((output,df_dummy.iloc[:number_of_wells,:].values))\n",
    "            \n",
    "            #print(\"torch tensor concatenated with df_dummy\")\n",
    "            #print(output.shape)\n",
    "            \n",
    "            h_t, c_t = self.lstm1(output, (h_t, c_t))\n",
    "            h_t2, c_t2 = self.lstm2(h_t, (h_t2, c_t2))\n",
    "            h_t3, c_t3 = self.lstm3(h_t2, (h_t3, c_t3))\n",
    "            output = self.linear(h_t3)\n",
    "            outputs += [output]\n",
    "        \n",
    "        outputs = torch.stack(outputs, 1)\n",
    "        outputs = outputs.reshape(outputs.shape[0],outputs.shape[1]*outputs.shape[2])\n",
    "        #print(outputs.shape)\n",
    "        #outputs = torch.stack(outputs, 1).reshape((1,self.output_nodes*len(outputs)))\n",
    "        return outputs"
   ]
  },
  {
   "cell_type": "code",
   "execution_count": 15,
   "metadata": {
    "scrolled": true
   },
   "outputs": [
    {
     "name": "stdout",
     "output_type": "stream",
     "text": [
      "(302, 7200)\n",
      "torch.Size([302, 7194]) torch.Size([302, 1170]) torch.Size([3, 7194]) torch.Size([3, 1170])\n"
     ]
    }
   ],
   "source": [
    "#View the shapes of the inputs and targets\n",
    "print(joined.shape)\n",
    "print(data.shape, target.shape, test_input.shape, test_target.shape)"
   ]
  },
  {
   "cell_type": "code",
   "execution_count": 16,
   "metadata": {},
   "outputs": [],
   "source": [
    "def mask_output(out, target, well_life):\n",
    "    \"\"\"Any well item that has a length greater than its duration from the well_list is maked from the target\"\"\"\n",
    "    for i, well in enumerate(well_life):\n",
    "        out[i,6*well:] = target[i,6*well:]\n",
    "    return out\n",
    "\n",
    "def mask_zeros(out, target, well_life):\n",
    "    \"\"\"If the target gas rate is 0, ignore the value\"\"\"\n",
    "    for i, well in enumerate(well_life):\n",
    "        for gas_rate in range(i):\n",
    "            if(target[i, 6*gas_rate] == 0):\n",
    "                out[i,6*gas_rate] = 0\n",
    "    return out\n",
    "    "
   ]
  },
  {
   "cell_type": "code",
   "execution_count": 17,
   "metadata": {},
   "outputs": [],
   "source": [
    "def closure():\n",
    "    optimizer.zero_grad()\n",
    "    #Output predicts the next values\n",
    "    out = seq(data)\n",
    "    #print(\"in closure:\", out.shape, target.shape)\n",
    "    \n",
    "    #We can apply a mask here on the output function if the values should be zeros or exceed current well life\n",
    "    #out = mask_output(out, target, well_life)\n",
    "    #out = mask_zeros(out, target, well_life)\n",
    "    \n",
    "    loss = criterion(regenerate_gas_rate(out, types_of_input), target)\n",
    "    print('loss:', loss.item())\n",
    "    loss.backward()\n",
    "    return loss\n",
    "\n",
    "def draw(yi, color):\n",
    "    plt.plot(np.arange(np_gas_norm.shape[1]), yi[:np_gas_norm.shape[1]], color, linewidth = 2.0)\n",
    "    plt.plot(np.arange(np_gas_norm.shape[1], np_gas_norm.shape[1] + future - length), yi[np_gas_norm.shape[1]:], color + ':', linewidth = 2.0)\n",
    "\n",
    "def iteration_plot(y):\n",
    "    # draw the result\n",
    "    plt.figure(figsize=(30,10))\n",
    "    plt.title('Predict future values for time sequences\\n(Dashlines are predicted values)', fontsize=30)\n",
    "    plt.xlabel('x', fontsize=20)\n",
    "    plt.ylabel('y', fontsize=20)\n",
    "    plt.xticks(fontsize=20)\n",
    "    plt.yticks(fontsize=20)\n",
    "    draw(y[0], 'r')\n",
    "    draw(y[1], 'b')\n",
    "    draw(y[2], 'g')\n",
    "    plt.savefig('gas/predict_iteration_%d.pdf'%i)\n",
    "    plt.close()"
   ]
  },
  {
   "cell_type": "code",
   "execution_count": 18,
   "metadata": {
    "scrolled": true
   },
   "outputs": [
    {
     "name": "stdout",
     "output_type": "stream",
     "text": [
      "Sequence Model Initialized\n",
      "Learning Rate:  0.8695652173913044\n",
      "EPOCH:  0\n"
     ]
    },
    {
     "ename": "RuntimeError",
     "evalue": "Can't call numpy() on Variable that requires grad. Use var.detach().numpy() instead.",
     "output_type": "error",
     "traceback": [
      "\u001b[1;31m---------------------------------------------------------------------------\u001b[0m",
      "\u001b[1;31mRuntimeError\u001b[0m                              Traceback (most recent call last)",
      "\u001b[1;32m<ipython-input-18-359793e0adaf>\u001b[0m in \u001b[0;36m<module>\u001b[1;34m()\u001b[0m\n\u001b[0;32m     20\u001b[0m     \u001b[0mprint\u001b[0m\u001b[1;33m(\u001b[0m\u001b[1;34m'EPOCH: '\u001b[0m\u001b[1;33m,\u001b[0m \u001b[0mi\u001b[0m\u001b[1;33m)\u001b[0m\u001b[1;33m\u001b[0m\u001b[0m\n\u001b[0;32m     21\u001b[0m \u001b[1;33m\u001b[0m\u001b[0m\n\u001b[1;32m---> 22\u001b[1;33m     \u001b[0moptimizer\u001b[0m\u001b[1;33m.\u001b[0m\u001b[0mstep\u001b[0m\u001b[1;33m(\u001b[0m\u001b[0mclosure\u001b[0m\u001b[1;33m)\u001b[0m\u001b[1;33m\u001b[0m\u001b[0m\n\u001b[0m\u001b[0;32m     23\u001b[0m \u001b[1;33m\u001b[0m\u001b[0m\n\u001b[0;32m     24\u001b[0m     \u001b[1;31m# begin to predict, no need to track gradient here\u001b[0m\u001b[1;33m\u001b[0m\u001b[1;33m\u001b[0m\u001b[0m\n",
      "\u001b[1;32m~\\AppData\\Local\\Continuum\\anaconda3\\lib\\site-packages\\torch\\optim\\lbfgs.py\u001b[0m in \u001b[0;36mstep\u001b[1;34m(self, closure)\u001b[0m\n\u001b[0;32m    101\u001b[0m \u001b[1;33m\u001b[0m\u001b[0m\n\u001b[0;32m    102\u001b[0m         \u001b[1;31m# evaluate initial f(x) and df/dx\u001b[0m\u001b[1;33m\u001b[0m\u001b[1;33m\u001b[0m\u001b[0m\n\u001b[1;32m--> 103\u001b[1;33m         \u001b[0morig_loss\u001b[0m \u001b[1;33m=\u001b[0m \u001b[0mclosure\u001b[0m\u001b[1;33m(\u001b[0m\u001b[1;33m)\u001b[0m\u001b[1;33m\u001b[0m\u001b[0m\n\u001b[0m\u001b[0;32m    104\u001b[0m         \u001b[0mloss\u001b[0m \u001b[1;33m=\u001b[0m \u001b[0mfloat\u001b[0m\u001b[1;33m(\u001b[0m\u001b[0morig_loss\u001b[0m\u001b[1;33m)\u001b[0m\u001b[1;33m\u001b[0m\u001b[0m\n\u001b[0;32m    105\u001b[0m         \u001b[0mcurrent_evals\u001b[0m \u001b[1;33m=\u001b[0m \u001b[1;36m1\u001b[0m\u001b[1;33m\u001b[0m\u001b[0m\n",
      "\u001b[1;32m<ipython-input-17-e9585b4bad08>\u001b[0m in \u001b[0;36mclosure\u001b[1;34m()\u001b[0m\n\u001b[0;32m      9\u001b[0m     \u001b[1;31m#out = mask_zeros(out, target, well_life)\u001b[0m\u001b[1;33m\u001b[0m\u001b[1;33m\u001b[0m\u001b[0m\n\u001b[0;32m     10\u001b[0m \u001b[1;33m\u001b[0m\u001b[0m\n\u001b[1;32m---> 11\u001b[1;33m     \u001b[0mloss\u001b[0m \u001b[1;33m=\u001b[0m \u001b[0mcriterion\u001b[0m\u001b[1;33m(\u001b[0m\u001b[0mregenerate_gas_rate\u001b[0m\u001b[1;33m(\u001b[0m\u001b[0mout\u001b[0m\u001b[1;33m,\u001b[0m \u001b[0mtypes_of_input\u001b[0m\u001b[1;33m)\u001b[0m\u001b[1;33m,\u001b[0m \u001b[0mtarget\u001b[0m\u001b[1;33m)\u001b[0m\u001b[1;33m\u001b[0m\u001b[0m\n\u001b[0m\u001b[0;32m     12\u001b[0m     \u001b[0mprint\u001b[0m\u001b[1;33m(\u001b[0m\u001b[1;34m'loss:'\u001b[0m\u001b[1;33m,\u001b[0m \u001b[0mloss\u001b[0m\u001b[1;33m.\u001b[0m\u001b[0mitem\u001b[0m\u001b[1;33m(\u001b[0m\u001b[1;33m)\u001b[0m\u001b[1;33m)\u001b[0m\u001b[1;33m\u001b[0m\u001b[0m\n\u001b[0;32m     13\u001b[0m     \u001b[0mloss\u001b[0m\u001b[1;33m.\u001b[0m\u001b[0mbackward\u001b[0m\u001b[1;33m(\u001b[0m\u001b[1;33m)\u001b[0m\u001b[1;33m\u001b[0m\u001b[0m\n",
      "\u001b[1;32m~\\Desktop\\bitcoin_time_series\\SRC_lstm.py\u001b[0m in \u001b[0;36mregenerate_gas_rate\u001b[1;34m(y, types_of_input)\u001b[0m\n\u001b[0;32m    142\u001b[0m     \u001b[0mnew_y\u001b[0m \u001b[1;33m=\u001b[0m \u001b[0mnp\u001b[0m\u001b[1;33m.\u001b[0m\u001b[0mempty\u001b[0m\u001b[1;33m(\u001b[0m\u001b[1;33m(\u001b[0m\u001b[0my\u001b[0m\u001b[1;33m.\u001b[0m\u001b[0mshape\u001b[0m\u001b[1;33m[\u001b[0m\u001b[1;36m0\u001b[0m\u001b[1;33m]\u001b[0m\u001b[1;33m,\u001b[0m \u001b[0my\u001b[0m\u001b[1;33m.\u001b[0m\u001b[0mshape\u001b[0m\u001b[1;33m[\u001b[0m\u001b[1;36m1\u001b[0m\u001b[1;33m]\u001b[0m\u001b[1;33m//\u001b[0m\u001b[1;33m(\u001b[0m\u001b[0mtypes_of_input\u001b[0m\u001b[1;33m)\u001b[0m\u001b[1;33m)\u001b[0m\u001b[1;33m,\u001b[0m \u001b[1;34m'float64'\u001b[0m\u001b[1;33m)\u001b[0m\u001b[1;33m\u001b[0m\u001b[0m\n\u001b[0;32m    143\u001b[0m     \u001b[1;32mfor\u001b[0m \u001b[0mi\u001b[0m \u001b[1;32min\u001b[0m \u001b[0mrange\u001b[0m\u001b[1;33m(\u001b[0m\u001b[0mnew_y\u001b[0m\u001b[1;33m.\u001b[0m\u001b[0mshape\u001b[0m\u001b[1;33m[\u001b[0m\u001b[1;36m1\u001b[0m\u001b[1;33m]\u001b[0m\u001b[1;33m)\u001b[0m\u001b[1;33m:\u001b[0m\u001b[1;33m\u001b[0m\u001b[0m\n\u001b[1;32m--> 144\u001b[1;33m         \u001b[0mnew_y\u001b[0m\u001b[1;33m[\u001b[0m\u001b[1;33m:\u001b[0m\u001b[1;33m,\u001b[0m\u001b[0mi\u001b[0m\u001b[1;33m:\u001b[0m\u001b[0mi\u001b[0m\u001b[1;33m+\u001b[0m\u001b[1;36m1\u001b[0m\u001b[1;33m]\u001b[0m \u001b[1;33m=\u001b[0m \u001b[0my\u001b[0m\u001b[1;33m[\u001b[0m\u001b[1;33m:\u001b[0m\u001b[1;33m,\u001b[0m\u001b[0mi\u001b[0m\u001b[1;33m*\u001b[0m\u001b[1;33m(\u001b[0m\u001b[0mtypes_of_input\u001b[0m\u001b[1;33m)\u001b[0m\u001b[1;33m:\u001b[0m\u001b[0mi\u001b[0m\u001b[1;33m*\u001b[0m\u001b[1;33m(\u001b[0m\u001b[0mtypes_of_input\u001b[0m\u001b[1;33m)\u001b[0m\u001b[1;33m+\u001b[0m\u001b[1;36m1\u001b[0m\u001b[1;33m]\u001b[0m\u001b[1;33m\u001b[0m\u001b[0m\n\u001b[0m\u001b[0;32m    145\u001b[0m     \u001b[1;32mreturn\u001b[0m \u001b[0mnew_y\u001b[0m\u001b[1;33m\u001b[0m\u001b[0m\n\u001b[0;32m    146\u001b[0m \u001b[1;33m\u001b[0m\u001b[0m\n",
      "\u001b[1;32m~\\AppData\\Local\\Continuum\\anaconda3\\lib\\site-packages\\torch\\tensor.py\u001b[0m in \u001b[0;36m__array__\u001b[1;34m(self, dtype)\u001b[0m\n\u001b[0;32m    450\u001b[0m             \u001b[1;32mreturn\u001b[0m \u001b[0mself\u001b[0m\u001b[1;33m.\u001b[0m\u001b[0mnumpy\u001b[0m\u001b[1;33m(\u001b[0m\u001b[1;33m)\u001b[0m\u001b[1;33m\u001b[0m\u001b[0m\n\u001b[0;32m    451\u001b[0m         \u001b[1;32melse\u001b[0m\u001b[1;33m:\u001b[0m\u001b[1;33m\u001b[0m\u001b[0m\n\u001b[1;32m--> 452\u001b[1;33m             \u001b[1;32mreturn\u001b[0m \u001b[0mself\u001b[0m\u001b[1;33m.\u001b[0m\u001b[0mnumpy\u001b[0m\u001b[1;33m(\u001b[0m\u001b[1;33m)\u001b[0m\u001b[1;33m.\u001b[0m\u001b[0mastype\u001b[0m\u001b[1;33m(\u001b[0m\u001b[0mdtype\u001b[0m\u001b[1;33m,\u001b[0m \u001b[0mcopy\u001b[0m\u001b[1;33m=\u001b[0m\u001b[1;32mFalse\u001b[0m\u001b[1;33m)\u001b[0m\u001b[1;33m\u001b[0m\u001b[0m\n\u001b[0m\u001b[0;32m    453\u001b[0m \u001b[1;33m\u001b[0m\u001b[0m\n\u001b[0;32m    454\u001b[0m     \u001b[1;31m# Wrap Numpy array again in a suitable tensor when done, to support e.g.\u001b[0m\u001b[1;33m\u001b[0m\u001b[1;33m\u001b[0m\u001b[0m\n",
      "\u001b[1;31mRuntimeError\u001b[0m: Can't call numpy() on Variable that requires grad. Use var.detach().numpy() instead."
     ]
    }
   ],
   "source": [
    "iterations = 30\n",
    "\n",
    "# build the model\n",
    "seq = Sequence(input_nodes)\n",
    "seq.double()\n",
    "seq.cuda()\n",
    "\n",
    "criterion = nn.MSELoss()\n",
    "\n",
    "# use LBFGS as optimizer since we can load the whole data to train\n",
    "optimizer = optim.LBFGS(seq.parameters(), lr=1)\n",
    "\n",
    "#begin to train\n",
    "for i in range(iterations):\n",
    "    #Change the learning rate each Epoch\n",
    "    for param_group in optimizer.param_groups:\n",
    "        param_group['lr'] = param_group['lr'] / (1.15)\n",
    "        print(\"Learning Rate: \", param_group['lr'])\n",
    "\n",
    "    print('EPOCH: ', i)\n",
    "\n",
    "    optimizer.step(closure)\n",
    "    \n",
    "    # begin to predict, no need to track gradient here\n",
    "    with torch.no_grad():\n",
    "        future = 50 #1000\n",
    "        pred = seq(test_input, future=future)\n",
    "        loss = criterion(regenerate_gas_rate(pred[:, :-(num_vars*future)], types_of_input), \n",
    "                         test_target)\n",
    "        print('test loss:', loss.item())\n",
    "        y = pred.detach().cpu().numpy()\n",
    "        y = regenerate_gas_rate(y, types_of_input)\n",
    "    \n",
    "    # draw the result\n",
    "    iteration_plot(y)\n",
    "    \n",
    "    #Save the model\n",
    "    with open('gas_forecast.pickle', 'wb') as handle:\n",
    "        pickle.dump(seq, handle, protocol=pickle.HIGHEST_PROTOCOL)"
   ]
  },
  {
   "cell_type": "code",
   "execution_count": null,
   "metadata": {},
   "outputs": [],
   "source": [
    "%debug"
   ]
  },
  {
   "cell_type": "code",
   "execution_count": null,
   "metadata": {},
   "outputs": [],
   "source": [
    "import pickle\n",
    "#with open('gas_forecast.pickle', 'wb') as handle:\n",
    "#    pickle.dump(seq, handle, protocol=pickle.HIGHEST_PROTOCOL)\n",
    "\n",
    "with open('gas_forecast.pickle', 'rb') as handle:\n",
    "    seq = pickle.load(handle)"
   ]
  },
  {
   "cell_type": "markdown",
   "metadata": {},
   "source": [
    "# Need to create forecasts for all wells but only from the last actual from well_life"
   ]
  },
  {
   "cell_type": "code",
   "execution_count": null,
   "metadata": {},
   "outputs": [],
   "source": [
    "#Create Predictions for all coins\n",
    "criterion = nn.MSELoss()\n",
    "\n",
    "with torch.no_grad():\n",
    "    future = 1000\n",
    "    pred = seq(data, future=future)\n",
    "    loss = criterion(pred[:, :-(6*future)], target)\n",
    "    y = pred.detach().cpu().numpy()\n",
    "\n",
    "    #y1, y2, y3, y4, y5, y6 = regenerate_all(y, types_of_input)"
   ]
  },
  {
   "cell_type": "code",
   "execution_count": null,
   "metadata": {},
   "outputs": [],
   "source": [
    "#Transform the predictions back to the gas rate values\n",
    "y1_transformed = y1 * np.linalg.norm(np_gas, ord=np.inf, axis=1, keepdims=True)\n",
    "y2_transformed = y2 * np.linalg.norm(np_water, ord=np.inf, axis=1, keepdims=True)\n",
    "y3_transformed = y3 * np.linalg.norm(np_casing, ord=np.inf, axis=1, keepdims=True)\n",
    "y4_transformed = y4 * np.linalg.norm(np_tubing, ord=np.inf, axis=1, keepdims=True)\n",
    "y5_transformed = y5 * np.linalg.norm(np_static, ord=np.inf, axis=1, keepdims=True)\n",
    "y6_transformed = y6 * np.linalg.norm(np_choke, ord=np.inf, axis=1, keepdims=True)"
   ]
  },
  {
   "cell_type": "code",
   "execution_count": null,
   "metadata": {},
   "outputs": [],
   "source": [
    "well_life[0]"
   ]
  },
  {
   "cell_type": "code",
   "execution_count": null,
   "metadata": {},
   "outputs": [],
   "source": [
    "y.shape[1]//6"
   ]
  },
  {
   "cell_type": "code",
   "execution_count": null,
   "metadata": {},
   "outputs": [],
   "source": [
    "np_gas.shape"
   ]
  },
  {
   "cell_type": "code",
   "execution_count": null,
   "metadata": {},
   "outputs": [],
   "source": [
    "def draw_figures(y, well_life, np_gas, np_water, np_casing, np_tubing, np_static, np_choke, future=0):\n",
    "    #Create a figure for each ticker\n",
    "    y1, y2, y3, y4, y5, y6 = regenerate_all(y, types_of_input)\n",
    "    \n",
    "    #Transform the predictions back to the gas rate values\n",
    "    y1_transformed = y1 * np.linalg.norm(np_gas, ord=np.inf, axis=1, keepdims=True)\n",
    "    y2_transformed = y2 * np.linalg.norm(np_water, ord=np.inf, axis=1, keepdims=True)\n",
    "    y3_transformed = y3 * np.linalg.norm(np_casing, ord=np.inf, axis=1, keepdims=True)\n",
    "    y4_transformed = y4 * np.linalg.norm(np_tubing, ord=np.inf, axis=1, keepdims=True)\n",
    "    y5_transformed = y5 * np.linalg.norm(np_static, ord=np.inf, axis=1, keepdims=True)\n",
    "    y6_transformed = y6 * np.linalg.norm(np_choke, ord=np.inf, axis=1, keepdims=True)\n",
    "    \n",
    "    for i, duration in enumerate(well_life):\n",
    "        \n",
    "        # draw the result\n",
    "        plt.figure(figsize=(30,10))\n",
    "        plt.title('Predict future values for time sequences\\n(Dashlines are predicted values)', fontsize=30)\n",
    "        plt.xticks(fontsize=20)\n",
    "        plt.yticks(fontsize=20)\n",
    "        \n",
    "        #plot the historical values\n",
    "        plt.plot(np.arange(well_life[i]), np_gas[i, :well_life[i]], 'r', linewidth = 2.0, label='gas')\n",
    "        plt.plot(np.arange(well_life[i]), np_water[i, :well_life[i]], 'b', linewidth = 2.0, label='water')\n",
    "        plt.plot(np.arange(well_life[i]), np_casing[i, :well_life[i]], 'g', linewidth = 2.0, label='casing')\n",
    "        plt.plot(np.arange(well_life[i]), np_water[i, :well_life[i]], 'c', linewidth = 2.0, label='tubing')\n",
    "        plt.plot(np.arange(well_life[i]), np_water[i, :well_life[i]], 'y', linewidth = 2.0, label='static')\n",
    "        plt.plot(np.arange(well_life[i]), np_water[i, :well_life[i]], 'k', linewidth = 2.0, label='choke')\n",
    "        \n",
    "        #Plot the predicted future values\n",
    "        plt.plot(np.arange(well_life[i],well_life[i]+future), y1_transformed[i, -future:], 'r-', linewidth = 2.0, label='gas')\n",
    "        plt.plot(np.arange(well_life[i],well_life[i]+future), y2_transformed[i, -future:], 'b-', linewidth = 2.0, label='water')\n",
    "        plt.plot(np.arange(well_life[i],well_life[i]+future), y3_transformed[i, -future:], 'g-', linewidth = 2.0, label='casing')\n",
    "        plt.plot(np.arange(well_life[i],well_life[i]+future), y4_transformed[i, -future:], 'c-', linewidth = 2.0, label='tubing')\n",
    "        plt.plot(np.arange(well_life[i],well_life[i]+future), y5_transformed[i, -future:], 'y-', linewidth = 2.0, label='static')\n",
    "        plt.plot(np.arange(well_life[i],well_life[i]+future), y6_transformed[i, -future:], 'k-', linewidth = 2.0, label='choke')\n",
    "        \n",
    "        plt.savefig('well_graphs/' + str(i) + '.pdf')\n",
    "        plt.close()"
   ]
  },
  {
   "cell_type": "code",
   "execution_count": null,
   "metadata": {
    "scrolled": true
   },
   "outputs": [],
   "source": [
    "draw_figures(y, well_life, np_gas, np_water, np_casing, np_tubing, np_static, np_choke, future)"
   ]
  },
  {
   "cell_type": "code",
   "execution_count": null,
   "metadata": {
    "scrolled": true
   },
   "outputs": [],
   "source": [
    "#Predicted Top Performers\n",
    "top_df = result_df.sort_values('24_hr_percent', ascending=False)[0:10]\n",
    "#Create a graph of the top 10 performers\n",
    "draw_figures(pred_transformed, top_df, 1000, \"top_performers_\")\n",
    "draw_all_figures(pred_transformed, top_df, 1000, \"top_performers\")\n",
    "\n",
    "top_df.style.format({\n",
    "    '24_hr_percent': '{:.2%}'.format,\n",
    "    '48_hr_percent': '{:.2%}'.format,\n",
    "    '168_hr_percent': '{:.2%}'.format\n",
    "})"
   ]
  }
 ],
 "metadata": {
  "kernelspec": {
   "display_name": "Python 3",
   "language": "python",
   "name": "python3"
  },
  "language_info": {
   "codemirror_mode": {
    "name": "ipython",
    "version": 3
   },
   "file_extension": ".py",
   "mimetype": "text/x-python",
   "name": "python",
   "nbconvert_exporter": "python",
   "pygments_lexer": "ipython3",
   "version": "3.7.0"
  }
 },
 "nbformat": 4,
 "nbformat_minor": 2
}
